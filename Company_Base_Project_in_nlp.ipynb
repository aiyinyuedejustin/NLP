{
  "nbformat": 4,
  "nbformat_minor": 0,
  "metadata": {
    "colab": {
      "provenance": [],
      "collapsed_sections": []
    },
    "kernelspec": {
      "display_name": "Python 3",
      "name": "python3"
    },
    "language_info": {
      "name": "python"
    }
  },
  "cells": [
    {
      "cell_type": "code",
      "metadata": {
        "id": "BVRCPZfTqoQP"
      },
      "source": [
        "import pandas as pd\n",
        "import numpy as np\n",
        "import seaborn as sns\n",
        "import matplotlib.pyplot as plt\n",
        "from nltk.stem.porter import PorterStemmer"
      ],
      "execution_count": null,
      "outputs": []
    },
    {
      "cell_type": "code",
      "metadata": {
        "colab": {
          "base_uri": "https://localhost:8080/"
        },
        "id": "aXGpPzOoOdTC",
        "outputId": "5d1d3ce9-67b0-4a44-87e2-a5a32d04365c"
      },
      "source": [
        "from google.colab import drive\n",
        "drive.mount('/content/drive')"
      ],
      "execution_count": null,
      "outputs": [
        {
          "output_type": "stream",
          "name": "stdout",
          "text": [
            "Mounted at /content/drive\n"
          ]
        }
      ]
    },
    {
      "cell_type": "code",
      "metadata": {
        "colab": {
          "base_uri": "https://localhost:8080/",
          "height": 204
        },
        "id": "KfZSled_rspZ",
        "outputId": "40227516-8329-4212-9b6f-97541cdef769"
      },
      "source": [
        "data=pd.read_csv(\"/content/drive/MyDrive/datasets/twitter_dataset.csv\")\n",
        "data.head()"
      ],
      "execution_count": null,
      "outputs": [
        {
          "output_type": "execute_result",
          "data": {
            "text/html": [
              "<div>\n",
              "<style scoped>\n",
              "    .dataframe tbody tr th:only-of-type {\n",
              "        vertical-align: middle;\n",
              "    }\n",
              "\n",
              "    .dataframe tbody tr th {\n",
              "        vertical-align: top;\n",
              "    }\n",
              "\n",
              "    .dataframe thead th {\n",
              "        text-align: right;\n",
              "    }\n",
              "</style>\n",
              "<table border=\"1\" class=\"dataframe\">\n",
              "  <thead>\n",
              "    <tr style=\"text-align: right;\">\n",
              "      <th></th>\n",
              "      <th>Type</th>\n",
              "      <th>Msg_ID</th>\n",
              "      <th>Source_Msg_ID</th>\n",
              "      <th>Text</th>\n",
              "      <th>Topic</th>\n",
              "      <th>Class</th>\n",
              "    </tr>\n",
              "  </thead>\n",
              "  <tbody>\n",
              "    <tr>\n",
              "      <th>0</th>\n",
              "      <td>Source</td>\n",
              "      <td>5.810630e+17</td>\n",
              "      <td>-1.000000e+00</td>\n",
              "      <td>#4U9525: Robin names Andreas Lubitz as the cop...</td>\n",
              "      <td>germanwings-crash</td>\n",
              "      <td>-1</td>\n",
              "    </tr>\n",
              "    <tr>\n",
              "      <th>1</th>\n",
              "      <td>Reply</td>\n",
              "      <td>5.810700e+17</td>\n",
              "      <td>5.810630e+17</td>\n",
              "      <td>@thatjohn Have they named the pilot?</td>\n",
              "      <td>germanwings-crash</td>\n",
              "      <td>query</td>\n",
              "    </tr>\n",
              "    <tr>\n",
              "      <th>2</th>\n",
              "      <td>Reply</td>\n",
              "      <td>5.810640e+17</td>\n",
              "      <td>5.810630e+17</td>\n",
              "      <td>@thatjohn @mschenk</td>\n",
              "      <td>germanwings-crash</td>\n",
              "      <td>comment</td>\n",
              "    </tr>\n",
              "    <tr>\n",
              "      <th>3</th>\n",
              "      <td>Source</td>\n",
              "      <td>5.813860e+17</td>\n",
              "      <td>-1.000000e+00</td>\n",
              "      <td>RT @khjelmgaard: German media reporting #Andre...</td>\n",
              "      <td>germanwings-crash</td>\n",
              "      <td>-1</td>\n",
              "    </tr>\n",
              "    <tr>\n",
              "      <th>4</th>\n",
              "      <td>Reply</td>\n",
              "      <td>5.815760e+17</td>\n",
              "      <td>5.813860e+17</td>\n",
              "      <td>@tinkalee_12 @USATODAY @khjelmgaard #F4Phantom...</td>\n",
              "      <td>germanwings-crash</td>\n",
              "      <td>comment</td>\n",
              "    </tr>\n",
              "  </tbody>\n",
              "</table>\n",
              "</div>"
            ],
            "text/plain": [
              "     Type        Msg_ID  ...              Topic    Class\n",
              "0  Source  5.810630e+17  ...  germanwings-crash       -1\n",
              "1   Reply  5.810700e+17  ...  germanwings-crash    query\n",
              "2   Reply  5.810640e+17  ...  germanwings-crash  comment\n",
              "3  Source  5.813860e+17  ...  germanwings-crash       -1\n",
              "4   Reply  5.815760e+17  ...  germanwings-crash  comment\n",
              "\n",
              "[5 rows x 6 columns]"
            ]
          },
          "metadata": {},
          "execution_count": 4
        }
      ]
    },
    {
      "cell_type": "code",
      "metadata": {
        "colab": {
          "base_uri": "https://localhost:8080/",
          "height": 204
        },
        "id": "vTPmI1um4LLd",
        "outputId": "40c1a466-216e-4bea-86b7-b89f0f5b2083"
      },
      "source": [
        "data1=pd.read_csv(\"/content/drive/MyDrive/datasets/Extra_reddit_dataset.csv\")\n",
        "data1.head()"
      ],
      "execution_count": null,
      "outputs": [
        {
          "output_type": "execute_result",
          "data": {
            "text/html": [
              "<div>\n",
              "<style scoped>\n",
              "    .dataframe tbody tr th:only-of-type {\n",
              "        vertical-align: middle;\n",
              "    }\n",
              "\n",
              "    .dataframe tbody tr th {\n",
              "        vertical-align: top;\n",
              "    }\n",
              "\n",
              "    .dataframe thead th {\n",
              "        text-align: right;\n",
              "    }\n",
              "</style>\n",
              "<table border=\"1\" class=\"dataframe\">\n",
              "  <thead>\n",
              "    <tr style=\"text-align: right;\">\n",
              "      <th></th>\n",
              "      <th>Type</th>\n",
              "      <th>Msg_ID</th>\n",
              "      <th>Source_Msg_ID</th>\n",
              "      <th>Text</th>\n",
              "      <th>Topic</th>\n",
              "      <th>Class</th>\n",
              "    </tr>\n",
              "  </thead>\n",
              "  <tbody>\n",
              "    <tr>\n",
              "      <th>0</th>\n",
              "      <td>Source</td>\n",
              "      <td>63uefi</td>\n",
              "      <td>-1</td>\n",
              "      <td>Donald Trump's travel expenses in 10 weeks cos...</td>\n",
              "      <td>None</td>\n",
              "      <td>-1</td>\n",
              "    </tr>\n",
              "    <tr>\n",
              "      <th>1</th>\n",
              "      <td>Reply</td>\n",
              "      <td>dfx7l1a</td>\n",
              "      <td>63uefi</td>\n",
              "      <td>But he was from 2001-2009? I don't get what di...</td>\n",
              "      <td>None</td>\n",
              "      <td>comment</td>\n",
              "    </tr>\n",
              "    <tr>\n",
              "      <th>2</th>\n",
              "      <td>Reply</td>\n",
              "      <td>dfx88qg</td>\n",
              "      <td>63uefi</td>\n",
              "      <td>Cheney resigned as CEO of Halliburton on July ...</td>\n",
              "      <td>None</td>\n",
              "      <td>comment</td>\n",
              "    </tr>\n",
              "    <tr>\n",
              "      <th>3</th>\n",
              "      <td>Reply</td>\n",
              "      <td>dfx3i17</td>\n",
              "      <td>63uefi</td>\n",
              "      <td>[deleted]</td>\n",
              "      <td>None</td>\n",
              "      <td>comment</td>\n",
              "    </tr>\n",
              "    <tr>\n",
              "      <th>4</th>\n",
              "      <td>Reply</td>\n",
              "      <td>dfx4yef</td>\n",
              "      <td>63uefi</td>\n",
              "      <td>That is literally not a source, that is Niamh ...</td>\n",
              "      <td>None</td>\n",
              "      <td>comment</td>\n",
              "    </tr>\n",
              "  </tbody>\n",
              "</table>\n",
              "</div>"
            ],
            "text/plain": [
              "     Type   Msg_ID  ... Topic    Class\n",
              "0  Source   63uefi  ...  None       -1\n",
              "1   Reply  dfx7l1a  ...  None  comment\n",
              "2   Reply  dfx88qg  ...  None  comment\n",
              "3   Reply  dfx3i17  ...  None  comment\n",
              "4   Reply  dfx4yef  ...  None  comment\n",
              "\n",
              "[5 rows x 6 columns]"
            ]
          },
          "metadata": {},
          "execution_count": 5
        }
      ]
    },
    {
      "cell_type": "code",
      "metadata": {
        "id": "23Az9nMK4T71"
      },
      "source": [
        "data=pd.concat([data,data1])"
      ],
      "execution_count": null,
      "outputs": []
    },
    {
      "cell_type": "code",
      "metadata": {
        "colab": {
          "base_uri": "https://localhost:8080/",
          "height": 204
        },
        "id": "yKz_dxFUq6tZ",
        "outputId": "bc60c694-7116-4ed4-90ac-7ec4091ef755"
      },
      "source": [
        "data.head()"
      ],
      "execution_count": null,
      "outputs": [
        {
          "output_type": "execute_result",
          "data": {
            "text/html": [
              "<div>\n",
              "<style scoped>\n",
              "    .dataframe tbody tr th:only-of-type {\n",
              "        vertical-align: middle;\n",
              "    }\n",
              "\n",
              "    .dataframe tbody tr th {\n",
              "        vertical-align: top;\n",
              "    }\n",
              "\n",
              "    .dataframe thead th {\n",
              "        text-align: right;\n",
              "    }\n",
              "</style>\n",
              "<table border=\"1\" class=\"dataframe\">\n",
              "  <thead>\n",
              "    <tr style=\"text-align: right;\">\n",
              "      <th></th>\n",
              "      <th>Type</th>\n",
              "      <th>Msg_ID</th>\n",
              "      <th>Source_Msg_ID</th>\n",
              "      <th>Text</th>\n",
              "      <th>Topic</th>\n",
              "      <th>Class</th>\n",
              "    </tr>\n",
              "  </thead>\n",
              "  <tbody>\n",
              "    <tr>\n",
              "      <th>0</th>\n",
              "      <td>Source</td>\n",
              "      <td>5.81063e+17</td>\n",
              "      <td>-1</td>\n",
              "      <td>#4U9525: Robin names Andreas Lubitz as the cop...</td>\n",
              "      <td>germanwings-crash</td>\n",
              "      <td>-1</td>\n",
              "    </tr>\n",
              "    <tr>\n",
              "      <th>1</th>\n",
              "      <td>Reply</td>\n",
              "      <td>5.8107e+17</td>\n",
              "      <td>5.81063e+17</td>\n",
              "      <td>@thatjohn Have they named the pilot?</td>\n",
              "      <td>germanwings-crash</td>\n",
              "      <td>query</td>\n",
              "    </tr>\n",
              "    <tr>\n",
              "      <th>2</th>\n",
              "      <td>Reply</td>\n",
              "      <td>5.81064e+17</td>\n",
              "      <td>5.81063e+17</td>\n",
              "      <td>@thatjohn @mschenk</td>\n",
              "      <td>germanwings-crash</td>\n",
              "      <td>comment</td>\n",
              "    </tr>\n",
              "    <tr>\n",
              "      <th>3</th>\n",
              "      <td>Source</td>\n",
              "      <td>5.81386e+17</td>\n",
              "      <td>-1</td>\n",
              "      <td>RT @khjelmgaard: German media reporting #Andre...</td>\n",
              "      <td>germanwings-crash</td>\n",
              "      <td>-1</td>\n",
              "    </tr>\n",
              "    <tr>\n",
              "      <th>4</th>\n",
              "      <td>Reply</td>\n",
              "      <td>5.81576e+17</td>\n",
              "      <td>5.81386e+17</td>\n",
              "      <td>@tinkalee_12 @USATODAY @khjelmgaard #F4Phantom...</td>\n",
              "      <td>germanwings-crash</td>\n",
              "      <td>comment</td>\n",
              "    </tr>\n",
              "  </tbody>\n",
              "</table>\n",
              "</div>"
            ],
            "text/plain": [
              "     Type       Msg_ID  ...              Topic    Class\n",
              "0  Source  5.81063e+17  ...  germanwings-crash       -1\n",
              "1   Reply   5.8107e+17  ...  germanwings-crash    query\n",
              "2   Reply  5.81064e+17  ...  germanwings-crash  comment\n",
              "3  Source  5.81386e+17  ...  germanwings-crash       -1\n",
              "4   Reply  5.81576e+17  ...  germanwings-crash  comment\n",
              "\n",
              "[5 rows x 6 columns]"
            ]
          },
          "metadata": {},
          "execution_count": 7
        }
      ]
    },
    {
      "cell_type": "code",
      "metadata": {
        "colab": {
          "base_uri": "https://localhost:8080/"
        },
        "id": "QSXAyT0erRWH",
        "outputId": "c43aab5b-0edc-4681-8cff-4183cc5773cb"
      },
      "source": [
        "data[\"Class\"].unique()"
      ],
      "execution_count": null,
      "outputs": [
        {
          "output_type": "execute_result",
          "data": {
            "text/plain": [
              "array(['-1', 'query', 'comment', 'deny', 'support'], dtype=object)"
            ]
          },
          "metadata": {},
          "execution_count": 8
        }
      ]
    },
    {
      "cell_type": "code",
      "metadata": {
        "colab": {
          "base_uri": "https://localhost:8080/"
        },
        "id": "tSjtf1rqrV7Z",
        "outputId": "043fc66d-8e78-43ee-976f-f402f6b3df15"
      },
      "source": [
        "data.size"
      ],
      "execution_count": null,
      "outputs": [
        {
          "output_type": "execute_result",
          "data": {
            "text/plain": [
              "54630"
            ]
          },
          "metadata": {},
          "execution_count": 9
        }
      ]
    },
    {
      "cell_type": "code",
      "metadata": {
        "colab": {
          "base_uri": "https://localhost:8080/"
        },
        "id": "axhlAifvrbpW",
        "outputId": "372bd1e7-fed0-44bf-fff4-325982ef917d"
      },
      "source": [
        "data.shape"
      ],
      "execution_count": null,
      "outputs": [
        {
          "output_type": "execute_result",
          "data": {
            "text/plain": [
              "(9105, 6)"
            ]
          },
          "metadata": {},
          "execution_count": 10
        }
      ]
    },
    {
      "cell_type": "code",
      "metadata": {
        "id": "rkx5W4Mfs5Jq"
      },
      "source": [
        "import re"
      ],
      "execution_count": null,
      "outputs": []
    },
    {
      "cell_type": "code",
      "metadata": {
        "id": "RftpaVI3reHR"
      },
      "source": [
        "def process_tweet(tweet):\n",
        "    return \" \".join(re.sub(\"(@[A-Za-z0-9]+)|([^0-9A-Za-z \\t])\", \" \",tweet.lower()).split())"
      ],
      "execution_count": null,
      "outputs": []
    },
    {
      "cell_type": "code",
      "metadata": {
        "colab": {
          "base_uri": "https://localhost:8080/",
          "height": 289
        },
        "id": "-pLvWgqJsiLc",
        "outputId": "7a360388-efc9-4fb6-e3f9-1844f295ee9f"
      },
      "source": [
        "data['clean_text'] = data['Text'].apply(process_tweet)\n",
        "data.head()\n"
      ],
      "execution_count": null,
      "outputs": [
        {
          "output_type": "execute_result",
          "data": {
            "text/html": [
              "<div>\n",
              "<style scoped>\n",
              "    .dataframe tbody tr th:only-of-type {\n",
              "        vertical-align: middle;\n",
              "    }\n",
              "\n",
              "    .dataframe tbody tr th {\n",
              "        vertical-align: top;\n",
              "    }\n",
              "\n",
              "    .dataframe thead th {\n",
              "        text-align: right;\n",
              "    }\n",
              "</style>\n",
              "<table border=\"1\" class=\"dataframe\">\n",
              "  <thead>\n",
              "    <tr style=\"text-align: right;\">\n",
              "      <th></th>\n",
              "      <th>Type</th>\n",
              "      <th>Msg_ID</th>\n",
              "      <th>Source_Msg_ID</th>\n",
              "      <th>Text</th>\n",
              "      <th>Topic</th>\n",
              "      <th>Class</th>\n",
              "      <th>clean_text</th>\n",
              "    </tr>\n",
              "  </thead>\n",
              "  <tbody>\n",
              "    <tr>\n",
              "      <th>0</th>\n",
              "      <td>Source</td>\n",
              "      <td>5.81063e+17</td>\n",
              "      <td>-1</td>\n",
              "      <td>#4U9525: Robin names Andreas Lubitz as the cop...</td>\n",
              "      <td>germanwings-crash</td>\n",
              "      <td>-1</td>\n",
              "      <td>4u9525 robin names andreas lubitz as the copil...</td>\n",
              "    </tr>\n",
              "    <tr>\n",
              "      <th>1</th>\n",
              "      <td>Reply</td>\n",
              "      <td>5.8107e+17</td>\n",
              "      <td>5.81063e+17</td>\n",
              "      <td>@thatjohn Have they named the pilot?</td>\n",
              "      <td>germanwings-crash</td>\n",
              "      <td>query</td>\n",
              "      <td>have they named the pilot</td>\n",
              "    </tr>\n",
              "    <tr>\n",
              "      <th>2</th>\n",
              "      <td>Reply</td>\n",
              "      <td>5.81064e+17</td>\n",
              "      <td>5.81063e+17</td>\n",
              "      <td>@thatjohn @mschenk</td>\n",
              "      <td>germanwings-crash</td>\n",
              "      <td>comment</td>\n",
              "      <td></td>\n",
              "    </tr>\n",
              "    <tr>\n",
              "      <th>3</th>\n",
              "      <td>Source</td>\n",
              "      <td>5.81386e+17</td>\n",
              "      <td>-1</td>\n",
              "      <td>RT @khjelmgaard: German media reporting #Andre...</td>\n",
              "      <td>germanwings-crash</td>\n",
              "      <td>-1</td>\n",
              "      <td>rt german media reporting andreaslubitz had a ...</td>\n",
              "    </tr>\n",
              "    <tr>\n",
              "      <th>4</th>\n",
              "      <td>Reply</td>\n",
              "      <td>5.81576e+17</td>\n",
              "      <td>5.81386e+17</td>\n",
              "      <td>@tinkalee_12 @USATODAY @khjelmgaard #F4Phantom...</td>\n",
              "      <td>germanwings-crash</td>\n",
              "      <td>comment</td>\n",
              "      <td>12 f4phantom crash 500mph hit concretewall dre...</td>\n",
              "    </tr>\n",
              "  </tbody>\n",
              "</table>\n",
              "</div>"
            ],
            "text/plain": [
              "     Type  ...                                         clean_text\n",
              "0  Source  ...  4u9525 robin names andreas lubitz as the copil...\n",
              "1   Reply  ...                          have they named the pilot\n",
              "2   Reply  ...                                                   \n",
              "3  Source  ...  rt german media reporting andreaslubitz had a ...\n",
              "4   Reply  ...  12 f4phantom crash 500mph hit concretewall dre...\n",
              "\n",
              "[5 rows x 7 columns]"
            ]
          },
          "metadata": {},
          "execution_count": 13
        }
      ]
    },
    {
      "cell_type": "code",
      "metadata": {
        "colab": {
          "base_uri": "https://localhost:8080/"
        },
        "id": "jFPJaedKtLso",
        "outputId": "0d95e710-47ce-49a3-c0c3-340386b497b8"
      },
      "source": [
        "import nltk\n",
        "nltk.download('stopwords')"
      ],
      "execution_count": null,
      "outputs": [
        {
          "output_type": "stream",
          "name": "stdout",
          "text": [
            "[nltk_data] Downloading package stopwords to /root/nltk_data...\n",
            "[nltk_data]   Unzipping corpora/stopwords.zip.\n"
          ]
        },
        {
          "output_type": "execute_result",
          "data": {
            "text/plain": [
              "True"
            ]
          },
          "metadata": {},
          "execution_count": 14
        }
      ]
    },
    {
      "cell_type": "code",
      "metadata": {
        "colab": {
          "base_uri": "https://localhost:8080/",
          "height": 171
        },
        "id": "AwSLlKjlsrwG",
        "outputId": "e56cc686-8d67-461f-e264-1e726249b25e"
      },
      "source": [
        "from nltk.corpus import stopwords\n",
        "\", \".join(stopwords.words('english'))"
      ],
      "execution_count": null,
      "outputs": [
        {
          "output_type": "execute_result",
          "data": {
            "application/vnd.google.colaboratory.intrinsic+json": {
              "type": "string"
            },
            "text/plain": [
              "\"i, me, my, myself, we, our, ours, ourselves, you, you're, you've, you'll, you'd, your, yours, yourself, yourselves, he, him, his, himself, she, she's, her, hers, herself, it, it's, its, itself, they, them, their, theirs, themselves, what, which, who, whom, this, that, that'll, these, those, am, is, are, was, were, be, been, being, have, has, had, having, do, does, did, doing, a, an, the, and, but, if, or, because, as, until, while, of, at, by, for, with, about, against, between, into, through, during, before, after, above, below, to, from, up, down, in, out, on, off, over, under, again, further, then, once, here, there, when, where, why, how, all, any, both, each, few, more, most, other, some, such, no, nor, not, only, own, same, so, than, too, very, s, t, can, will, just, don, don't, should, should've, now, d, ll, m, o, re, ve, y, ain, aren, aren't, couldn, couldn't, didn, didn't, doesn, doesn't, hadn, hadn't, hasn, hasn't, haven, haven't, isn, isn't, ma, mightn, mightn't, mustn, mustn't, needn, needn't, shan, shan't, shouldn, shouldn't, wasn, wasn't, weren, weren't, won, won't, wouldn, wouldn't\""
            ]
          },
          "metadata": {},
          "execution_count": 15
        }
      ]
    },
    {
      "cell_type": "code",
      "metadata": {
        "colab": {
          "base_uri": "https://localhost:8080/",
          "height": 374
        },
        "id": "Ojvv3hTntJba",
        "outputId": "db695f21-a7dc-4b41-f49a-64bdd975ace8"
      },
      "source": [
        "STOPWORDS = set(stopwords.words('english'))\n",
        "def stopword(text):\n",
        "    return \" \".join([word for word in str(text).split() if word not in STOPWORDS])\n",
        "\n",
        "data[\"text_no_stp\"] = data[\"clean_text\"].apply(lambda text: stopword(text))\n",
        "data.head()"
      ],
      "execution_count": null,
      "outputs": [
        {
          "output_type": "execute_result",
          "data": {
            "text/html": [
              "<div>\n",
              "<style scoped>\n",
              "    .dataframe tbody tr th:only-of-type {\n",
              "        vertical-align: middle;\n",
              "    }\n",
              "\n",
              "    .dataframe tbody tr th {\n",
              "        vertical-align: top;\n",
              "    }\n",
              "\n",
              "    .dataframe thead th {\n",
              "        text-align: right;\n",
              "    }\n",
              "</style>\n",
              "<table border=\"1\" class=\"dataframe\">\n",
              "  <thead>\n",
              "    <tr style=\"text-align: right;\">\n",
              "      <th></th>\n",
              "      <th>Type</th>\n",
              "      <th>Msg_ID</th>\n",
              "      <th>Source_Msg_ID</th>\n",
              "      <th>Text</th>\n",
              "      <th>Topic</th>\n",
              "      <th>Class</th>\n",
              "      <th>clean_text</th>\n",
              "      <th>text_no_stp</th>\n",
              "    </tr>\n",
              "  </thead>\n",
              "  <tbody>\n",
              "    <tr>\n",
              "      <th>0</th>\n",
              "      <td>Source</td>\n",
              "      <td>5.81063e+17</td>\n",
              "      <td>-1</td>\n",
              "      <td>#4U9525: Robin names Andreas Lubitz as the cop...</td>\n",
              "      <td>germanwings-crash</td>\n",
              "      <td>-1</td>\n",
              "      <td>4u9525 robin names andreas lubitz as the copil...</td>\n",
              "      <td>4u9525 robin names andreas lubitz copilot flig...</td>\n",
              "    </tr>\n",
              "    <tr>\n",
              "      <th>1</th>\n",
              "      <td>Reply</td>\n",
              "      <td>5.8107e+17</td>\n",
              "      <td>5.81063e+17</td>\n",
              "      <td>@thatjohn Have they named the pilot?</td>\n",
              "      <td>germanwings-crash</td>\n",
              "      <td>query</td>\n",
              "      <td>have they named the pilot</td>\n",
              "      <td>named pilot</td>\n",
              "    </tr>\n",
              "    <tr>\n",
              "      <th>2</th>\n",
              "      <td>Reply</td>\n",
              "      <td>5.81064e+17</td>\n",
              "      <td>5.81063e+17</td>\n",
              "      <td>@thatjohn @mschenk</td>\n",
              "      <td>germanwings-crash</td>\n",
              "      <td>comment</td>\n",
              "      <td></td>\n",
              "      <td></td>\n",
              "    </tr>\n",
              "    <tr>\n",
              "      <th>3</th>\n",
              "      <td>Source</td>\n",
              "      <td>5.81386e+17</td>\n",
              "      <td>-1</td>\n",
              "      <td>RT @khjelmgaard: German media reporting #Andre...</td>\n",
              "      <td>germanwings-crash</td>\n",
              "      <td>-1</td>\n",
              "      <td>rt german media reporting andreaslubitz had a ...</td>\n",
              "      <td>rt german media reporting andreaslubitz seriou...</td>\n",
              "    </tr>\n",
              "    <tr>\n",
              "      <th>4</th>\n",
              "      <td>Reply</td>\n",
              "      <td>5.81576e+17</td>\n",
              "      <td>5.81386e+17</td>\n",
              "      <td>@tinkalee_12 @USATODAY @khjelmgaard #F4Phantom...</td>\n",
              "      <td>germanwings-crash</td>\n",
              "      <td>comment</td>\n",
              "      <td>12 f4phantom crash 500mph hit concretewall dre...</td>\n",
              "      <td>12 f4phantom crash 500mph hit concretewall dre...</td>\n",
              "    </tr>\n",
              "  </tbody>\n",
              "</table>\n",
              "</div>"
            ],
            "text/plain": [
              "     Type  ...                                        text_no_stp\n",
              "0  Source  ...  4u9525 robin names andreas lubitz copilot flig...\n",
              "1   Reply  ...                                        named pilot\n",
              "2   Reply  ...                                                   \n",
              "3  Source  ...  rt german media reporting andreaslubitz seriou...\n",
              "4   Reply  ...  12 f4phantom crash 500mph hit concretewall dre...\n",
              "\n",
              "[5 rows x 8 columns]"
            ]
          },
          "metadata": {},
          "execution_count": 16
        }
      ]
    },
    {
      "cell_type": "code",
      "metadata": {
        "colab": {
          "base_uri": "https://localhost:8080/"
        },
        "id": "pUiq7UX7tlMc",
        "outputId": "a86b3b5a-9768-456b-8182-dbb99b03e1d7"
      },
      "source": [
        "from collections import Counter\n",
        "cnt = Counter()\n",
        "for text in data[\"text_no_stp\"].values:\n",
        "    for word in text.split():\n",
        "        cnt[word] += 1\n",
        "        \n",
        "cnt.most_common(10)"
      ],
      "execution_count": null,
      "outputs": [
        {
          "output_type": "execute_result",
          "data": {
            "text/plain": [
              "[('co', 1517),\n",
              " ('http', 1165),\n",
              " ('people', 805),\n",
              " ('https', 696),\n",
              " ('would', 639),\n",
              " ('like', 598),\n",
              " ('gt', 534),\n",
              " ('get', 446),\n",
              " ('one', 436),\n",
              " ('police', 410)]"
            ]
          },
          "metadata": {},
          "execution_count": 17
        }
      ]
    },
    {
      "cell_type": "code",
      "metadata": {
        "colab": {
          "base_uri": "https://localhost:8080/",
          "height": 442
        },
        "id": "tyLn7E5Ftw4v",
        "outputId": "69a29af9-de49-4910-99c2-88a04ae4af64"
      },
      "source": [
        "FREQWORDS = set([w for (w, wc) in cnt.most_common(10)])\n",
        "def frq(text):\n",
        "    return \" \".join([word for word in str(text).split() if word not in FREQWORDS])\n",
        "\n",
        "data[\"clean_text_new\"] = data[\"text_no_stp\"].apply(lambda text: frq(text))\n",
        "data.head()"
      ],
      "execution_count": null,
      "outputs": [
        {
          "output_type": "execute_result",
          "data": {
            "text/html": [
              "<div>\n",
              "<style scoped>\n",
              "    .dataframe tbody tr th:only-of-type {\n",
              "        vertical-align: middle;\n",
              "    }\n",
              "\n",
              "    .dataframe tbody tr th {\n",
              "        vertical-align: top;\n",
              "    }\n",
              "\n",
              "    .dataframe thead th {\n",
              "        text-align: right;\n",
              "    }\n",
              "</style>\n",
              "<table border=\"1\" class=\"dataframe\">\n",
              "  <thead>\n",
              "    <tr style=\"text-align: right;\">\n",
              "      <th></th>\n",
              "      <th>Type</th>\n",
              "      <th>Msg_ID</th>\n",
              "      <th>Source_Msg_ID</th>\n",
              "      <th>Text</th>\n",
              "      <th>Topic</th>\n",
              "      <th>Class</th>\n",
              "      <th>clean_text</th>\n",
              "      <th>text_no_stp</th>\n",
              "      <th>clean_text_new</th>\n",
              "    </tr>\n",
              "  </thead>\n",
              "  <tbody>\n",
              "    <tr>\n",
              "      <th>0</th>\n",
              "      <td>Source</td>\n",
              "      <td>5.81063e+17</td>\n",
              "      <td>-1</td>\n",
              "      <td>#4U9525: Robin names Andreas Lubitz as the cop...</td>\n",
              "      <td>germanwings-crash</td>\n",
              "      <td>-1</td>\n",
              "      <td>4u9525 robin names andreas lubitz as the copil...</td>\n",
              "      <td>4u9525 robin names andreas lubitz copilot flig...</td>\n",
              "      <td>4u9525 robin names andreas lubitz copilot flig...</td>\n",
              "    </tr>\n",
              "    <tr>\n",
              "      <th>1</th>\n",
              "      <td>Reply</td>\n",
              "      <td>5.8107e+17</td>\n",
              "      <td>5.81063e+17</td>\n",
              "      <td>@thatjohn Have they named the pilot?</td>\n",
              "      <td>germanwings-crash</td>\n",
              "      <td>query</td>\n",
              "      <td>have they named the pilot</td>\n",
              "      <td>named pilot</td>\n",
              "      <td>named pilot</td>\n",
              "    </tr>\n",
              "    <tr>\n",
              "      <th>2</th>\n",
              "      <td>Reply</td>\n",
              "      <td>5.81064e+17</td>\n",
              "      <td>5.81063e+17</td>\n",
              "      <td>@thatjohn @mschenk</td>\n",
              "      <td>germanwings-crash</td>\n",
              "      <td>comment</td>\n",
              "      <td></td>\n",
              "      <td></td>\n",
              "      <td></td>\n",
              "    </tr>\n",
              "    <tr>\n",
              "      <th>3</th>\n",
              "      <td>Source</td>\n",
              "      <td>5.81386e+17</td>\n",
              "      <td>-1</td>\n",
              "      <td>RT @khjelmgaard: German media reporting #Andre...</td>\n",
              "      <td>germanwings-crash</td>\n",
              "      <td>-1</td>\n",
              "      <td>rt german media reporting andreaslubitz had a ...</td>\n",
              "      <td>rt german media reporting andreaslubitz seriou...</td>\n",
              "      <td>rt german media reporting andreaslubitz seriou...</td>\n",
              "    </tr>\n",
              "    <tr>\n",
              "      <th>4</th>\n",
              "      <td>Reply</td>\n",
              "      <td>5.81576e+17</td>\n",
              "      <td>5.81386e+17</td>\n",
              "      <td>@tinkalee_12 @USATODAY @khjelmgaard #F4Phantom...</td>\n",
              "      <td>germanwings-crash</td>\n",
              "      <td>comment</td>\n",
              "      <td>12 f4phantom crash 500mph hit concretewall dre...</td>\n",
              "      <td>12 f4phantom crash 500mph hit concretewall dre...</td>\n",
              "      <td>12 f4phantom crash 500mph hit concretewall dre...</td>\n",
              "    </tr>\n",
              "  </tbody>\n",
              "</table>\n",
              "</div>"
            ],
            "text/plain": [
              "     Type  ...                                     clean_text_new\n",
              "0  Source  ...  4u9525 robin names andreas lubitz copilot flig...\n",
              "1   Reply  ...                                        named pilot\n",
              "2   Reply  ...                                                   \n",
              "3  Source  ...  rt german media reporting andreaslubitz seriou...\n",
              "4   Reply  ...  12 f4phantom crash 500mph hit concretewall dre...\n",
              "\n",
              "[5 rows x 9 columns]"
            ]
          },
          "metadata": {},
          "execution_count": 18
        }
      ]
    },
    {
      "cell_type": "code",
      "metadata": {
        "colab": {
          "base_uri": "https://localhost:8080/",
          "height": 442
        },
        "id": "hVO_vXPAuGe2",
        "outputId": "82bf6f74-f0aa-4d4f-c28f-34b64d9eb500"
      },
      "source": [
        "stemmer = PorterStemmer()\n",
        "def stem_words(text):\n",
        "    return \" \".join([stemmer.stem(word) for word in text.split()])\n",
        "\n",
        "data[\"clean_text_new\"] = data[\"clean_text_new\"].apply(lambda text: stem_words(text))\n",
        "data.head()"
      ],
      "execution_count": null,
      "outputs": [
        {
          "output_type": "execute_result",
          "data": {
            "text/html": [
              "<div>\n",
              "<style scoped>\n",
              "    .dataframe tbody tr th:only-of-type {\n",
              "        vertical-align: middle;\n",
              "    }\n",
              "\n",
              "    .dataframe tbody tr th {\n",
              "        vertical-align: top;\n",
              "    }\n",
              "\n",
              "    .dataframe thead th {\n",
              "        text-align: right;\n",
              "    }\n",
              "</style>\n",
              "<table border=\"1\" class=\"dataframe\">\n",
              "  <thead>\n",
              "    <tr style=\"text-align: right;\">\n",
              "      <th></th>\n",
              "      <th>Type</th>\n",
              "      <th>Msg_ID</th>\n",
              "      <th>Source_Msg_ID</th>\n",
              "      <th>Text</th>\n",
              "      <th>Topic</th>\n",
              "      <th>Class</th>\n",
              "      <th>clean_text</th>\n",
              "      <th>text_no_stp</th>\n",
              "      <th>clean_text_new</th>\n",
              "    </tr>\n",
              "  </thead>\n",
              "  <tbody>\n",
              "    <tr>\n",
              "      <th>0</th>\n",
              "      <td>Source</td>\n",
              "      <td>5.81063e+17</td>\n",
              "      <td>-1</td>\n",
              "      <td>#4U9525: Robin names Andreas Lubitz as the cop...</td>\n",
              "      <td>germanwings-crash</td>\n",
              "      <td>-1</td>\n",
              "      <td>4u9525 robin names andreas lubitz as the copil...</td>\n",
              "      <td>4u9525 robin names andreas lubitz copilot flig...</td>\n",
              "      <td>4u9525 robin name andrea lubitz copilot flight...</td>\n",
              "    </tr>\n",
              "    <tr>\n",
              "      <th>1</th>\n",
              "      <td>Reply</td>\n",
              "      <td>5.8107e+17</td>\n",
              "      <td>5.81063e+17</td>\n",
              "      <td>@thatjohn Have they named the pilot?</td>\n",
              "      <td>germanwings-crash</td>\n",
              "      <td>query</td>\n",
              "      <td>have they named the pilot</td>\n",
              "      <td>named pilot</td>\n",
              "      <td>name pilot</td>\n",
              "    </tr>\n",
              "    <tr>\n",
              "      <th>2</th>\n",
              "      <td>Reply</td>\n",
              "      <td>5.81064e+17</td>\n",
              "      <td>5.81063e+17</td>\n",
              "      <td>@thatjohn @mschenk</td>\n",
              "      <td>germanwings-crash</td>\n",
              "      <td>comment</td>\n",
              "      <td></td>\n",
              "      <td></td>\n",
              "      <td></td>\n",
              "    </tr>\n",
              "    <tr>\n",
              "      <th>3</th>\n",
              "      <td>Source</td>\n",
              "      <td>5.81386e+17</td>\n",
              "      <td>-1</td>\n",
              "      <td>RT @khjelmgaard: German media reporting #Andre...</td>\n",
              "      <td>germanwings-crash</td>\n",
              "      <td>-1</td>\n",
              "      <td>rt german media reporting andreaslubitz had a ...</td>\n",
              "      <td>rt german media reporting andreaslubitz seriou...</td>\n",
              "      <td>rt german media report andreaslubitz seriou de...</td>\n",
              "    </tr>\n",
              "    <tr>\n",
              "      <th>4</th>\n",
              "      <td>Reply</td>\n",
              "      <td>5.81576e+17</td>\n",
              "      <td>5.81386e+17</td>\n",
              "      <td>@tinkalee_12 @USATODAY @khjelmgaard #F4Phantom...</td>\n",
              "      <td>germanwings-crash</td>\n",
              "      <td>comment</td>\n",
              "      <td>12 f4phantom crash 500mph hit concretewall dre...</td>\n",
              "      <td>12 f4phantom crash 500mph hit concretewall dre...</td>\n",
              "      <td>12 f4phantom crash 500mph hit concretewal dred...</td>\n",
              "    </tr>\n",
              "  </tbody>\n",
              "</table>\n",
              "</div>"
            ],
            "text/plain": [
              "     Type  ...                                     clean_text_new\n",
              "0  Source  ...  4u9525 robin name andrea lubitz copilot flight...\n",
              "1   Reply  ...                                         name pilot\n",
              "2   Reply  ...                                                   \n",
              "3  Source  ...  rt german media report andreaslubitz seriou de...\n",
              "4   Reply  ...  12 f4phantom crash 500mph hit concretewal dred...\n",
              "\n",
              "[5 rows x 9 columns]"
            ]
          },
          "metadata": {},
          "execution_count": 19
        }
      ]
    },
    {
      "cell_type": "code",
      "metadata": {
        "colab": {
          "base_uri": "https://localhost:8080/",
          "height": 442
        },
        "id": "7ITJmbTzlQGB",
        "outputId": "7a2a29a7-2a1e-4431-9dd8-8f277650983e"
      },
      "source": [
        "data.head()"
      ],
      "execution_count": null,
      "outputs": [
        {
          "output_type": "execute_result",
          "data": {
            "text/html": [
              "<div>\n",
              "<style scoped>\n",
              "    .dataframe tbody tr th:only-of-type {\n",
              "        vertical-align: middle;\n",
              "    }\n",
              "\n",
              "    .dataframe tbody tr th {\n",
              "        vertical-align: top;\n",
              "    }\n",
              "\n",
              "    .dataframe thead th {\n",
              "        text-align: right;\n",
              "    }\n",
              "</style>\n",
              "<table border=\"1\" class=\"dataframe\">\n",
              "  <thead>\n",
              "    <tr style=\"text-align: right;\">\n",
              "      <th></th>\n",
              "      <th>Type</th>\n",
              "      <th>Msg_ID</th>\n",
              "      <th>Source_Msg_ID</th>\n",
              "      <th>Text</th>\n",
              "      <th>Topic</th>\n",
              "      <th>Class</th>\n",
              "      <th>clean_text</th>\n",
              "      <th>text_no_stp</th>\n",
              "      <th>clean_text_new</th>\n",
              "    </tr>\n",
              "  </thead>\n",
              "  <tbody>\n",
              "    <tr>\n",
              "      <th>0</th>\n",
              "      <td>Source</td>\n",
              "      <td>5.81063e+17</td>\n",
              "      <td>-1</td>\n",
              "      <td>#4U9525: Robin names Andreas Lubitz as the cop...</td>\n",
              "      <td>germanwings-crash</td>\n",
              "      <td>-1</td>\n",
              "      <td>4u9525 robin names andreas lubitz as the copil...</td>\n",
              "      <td>4u9525 robin names andreas lubitz copilot flig...</td>\n",
              "      <td>4u9525 robin name andrea lubitz copilot flight...</td>\n",
              "    </tr>\n",
              "    <tr>\n",
              "      <th>1</th>\n",
              "      <td>Reply</td>\n",
              "      <td>5.8107e+17</td>\n",
              "      <td>5.81063e+17</td>\n",
              "      <td>@thatjohn Have they named the pilot?</td>\n",
              "      <td>germanwings-crash</td>\n",
              "      <td>query</td>\n",
              "      <td>have they named the pilot</td>\n",
              "      <td>named pilot</td>\n",
              "      <td>name pilot</td>\n",
              "    </tr>\n",
              "    <tr>\n",
              "      <th>2</th>\n",
              "      <td>Reply</td>\n",
              "      <td>5.81064e+17</td>\n",
              "      <td>5.81063e+17</td>\n",
              "      <td>@thatjohn @mschenk</td>\n",
              "      <td>germanwings-crash</td>\n",
              "      <td>comment</td>\n",
              "      <td></td>\n",
              "      <td></td>\n",
              "      <td></td>\n",
              "    </tr>\n",
              "    <tr>\n",
              "      <th>3</th>\n",
              "      <td>Source</td>\n",
              "      <td>5.81386e+17</td>\n",
              "      <td>-1</td>\n",
              "      <td>RT @khjelmgaard: German media reporting #Andre...</td>\n",
              "      <td>germanwings-crash</td>\n",
              "      <td>-1</td>\n",
              "      <td>rt german media reporting andreaslubitz had a ...</td>\n",
              "      <td>rt german media reporting andreaslubitz seriou...</td>\n",
              "      <td>rt german media report andreaslubitz seriou de...</td>\n",
              "    </tr>\n",
              "    <tr>\n",
              "      <th>4</th>\n",
              "      <td>Reply</td>\n",
              "      <td>5.81576e+17</td>\n",
              "      <td>5.81386e+17</td>\n",
              "      <td>@tinkalee_12 @USATODAY @khjelmgaard #F4Phantom...</td>\n",
              "      <td>germanwings-crash</td>\n",
              "      <td>comment</td>\n",
              "      <td>12 f4phantom crash 500mph hit concretewall dre...</td>\n",
              "      <td>12 f4phantom crash 500mph hit concretewall dre...</td>\n",
              "      <td>12 f4phantom crash 500mph hit concretewal dred...</td>\n",
              "    </tr>\n",
              "  </tbody>\n",
              "</table>\n",
              "</div>"
            ],
            "text/plain": [
              "     Type  ...                                     clean_text_new\n",
              "0  Source  ...  4u9525 robin name andrea lubitz copilot flight...\n",
              "1   Reply  ...                                         name pilot\n",
              "2   Reply  ...                                                   \n",
              "3  Source  ...  rt german media report andreaslubitz seriou de...\n",
              "4   Reply  ...  12 f4phantom crash 500mph hit concretewal dred...\n",
              "\n",
              "[5 rows x 9 columns]"
            ]
          },
          "metadata": {},
          "execution_count": 20
        }
      ]
    },
    {
      "cell_type": "code",
      "metadata": {
        "colab": {
          "base_uri": "https://localhost:8080/",
          "height": 282
        },
        "id": "VBNC07o3uj0X",
        "outputId": "a89fd0a5-6db1-44ff-f914-469894144bb9"
      },
      "source": [
        "sns.countplot(x='Class', data=data)\n",
        "plt.xlabel('Rumor')\n",
        "plt.ylabel('Number of Records')\n",
        "plt.show()"
      ],
      "execution_count": null,
      "outputs": [
        {
          "output_type": "display_data",
          "data": {
            "image/png": "[encoded data removed]",
            "text/plain": [
              "<Figure size 432x288 with 1 Axes>"
            ]
          },
          "metadata": {
            "needs_background": "light"
          }
        }
      ]
    },
    {
      "cell_type": "code",
      "metadata": {
        "id": "875qvB6FH-_C"
      },
      "source": [
        "index_names = data[ data['Class'] == \"-1\" ].index\n",
        "data.drop(index_names, inplace = True)\n",
        "data=pd.DataFrame(data)\n"
      ],
      "execution_count": null,
      "outputs": []
    },
    {
      "cell_type": "code",
      "metadata": {
        "colab": {
          "base_uri": "https://localhost:8080/",
          "height": 279
        },
        "id": "SrxzbSE7IKwh",
        "outputId": "44e349e1-f73d-46ba-eeeb-2dee08d37f22"
      },
      "source": [
        "sns.countplot(x='Class', data=data)\n",
        "plt.xlabel('Rumor')\n",
        "plt.ylabel('Number of Records')\n",
        "plt.show()"
      ],
      "execution_count": null,
      "outputs": [
        {
          "output_type": "display_data",
          "data": {
            "image/png": "[encoded data removed]",
            "text/plain": [
              "<Figure size 432x288 with 1 Axes>"
            ]
          },
          "metadata": {
            "needs_background": "light"
          }
        }
      ]
    },
    {
      "cell_type": "code",
      "metadata": {
        "id": "Gi-O2h6zMY-y"
      },
      "source": [],
      "execution_count": null,
      "outputs": []
    },
    {
      "cell_type": "code",
      "metadata": {
        "id": "I6Xc051s2xH9"
      },
      "source": [
        "data['len_reviews'] = data['clean_text_new'].apply(len)"
      ],
      "execution_count": null,
      "outputs": []
    },
    {
      "cell_type": "code",
      "metadata": {
        "colab": {
          "base_uri": "https://localhost:8080/",
          "height": 496
        },
        "id": "kbpF6vtD4Msq",
        "outputId": "ef4eebf7-e663-4316-c044-3d8bfe390546"
      },
      "source": [
        "data.head()"
      ],
      "execution_count": null,
      "outputs": [
        {
          "output_type": "execute_result",
          "data": {
            "text/html": [
              "<div>\n",
              "<style scoped>\n",
              "    .dataframe tbody tr th:only-of-type {\n",
              "        vertical-align: middle;\n",
              "    }\n",
              "\n",
              "    .dataframe tbody tr th {\n",
              "        vertical-align: top;\n",
              "    }\n",
              "\n",
              "    .dataframe thead th {\n",
              "        text-align: right;\n",
              "    }\n",
              "</style>\n",
              "<table border=\"1\" class=\"dataframe\">\n",
              "  <thead>\n",
              "    <tr style=\"text-align: right;\">\n",
              "      <th></th>\n",
              "      <th>Type</th>\n",
              "      <th>Msg_ID</th>\n",
              "      <th>Source_Msg_ID</th>\n",
              "      <th>Text</th>\n",
              "      <th>Topic</th>\n",
              "      <th>Class</th>\n",
              "      <th>clean_text</th>\n",
              "      <th>text_no_stp</th>\n",
              "      <th>clean_text_new</th>\n",
              "      <th>len_reviews</th>\n",
              "    </tr>\n",
              "  </thead>\n",
              "  <tbody>\n",
              "    <tr>\n",
              "      <th>1</th>\n",
              "      <td>Reply</td>\n",
              "      <td>5.8107e+17</td>\n",
              "      <td>5.81063e+17</td>\n",
              "      <td>@thatjohn Have they named the pilot?</td>\n",
              "      <td>germanwings-crash</td>\n",
              "      <td>query</td>\n",
              "      <td>have they named the pilot</td>\n",
              "      <td>named pilot</td>\n",
              "      <td>name pilot</td>\n",
              "      <td>10</td>\n",
              "    </tr>\n",
              "    <tr>\n",
              "      <th>2</th>\n",
              "      <td>Reply</td>\n",
              "      <td>5.81064e+17</td>\n",
              "      <td>5.81063e+17</td>\n",
              "      <td>@thatjohn @mschenk</td>\n",
              "      <td>germanwings-crash</td>\n",
              "      <td>comment</td>\n",
              "      <td></td>\n",
              "      <td></td>\n",
              "      <td></td>\n",
              "      <td>0</td>\n",
              "    </tr>\n",
              "    <tr>\n",
              "      <th>4</th>\n",
              "      <td>Reply</td>\n",
              "      <td>5.81576e+17</td>\n",
              "      <td>5.81386e+17</td>\n",
              "      <td>@tinkalee_12 @USATODAY @khjelmgaard #F4Phantom...</td>\n",
              "      <td>germanwings-crash</td>\n",
              "      <td>comment</td>\n",
              "      <td>12 f4phantom crash 500mph hit concretewall dre...</td>\n",
              "      <td>12 f4phantom crash 500mph hit concretewall dre...</td>\n",
              "      <td>12 f4phantom crash 500mph hit concretewal dred...</td>\n",
              "      <td>68</td>\n",
              "    </tr>\n",
              "    <tr>\n",
              "      <th>5</th>\n",
              "      <td>Reply</td>\n",
              "      <td>5.82048e+17</td>\n",
              "      <td>5.81386e+17</td>\n",
              "      <td>@USATODAY @khjelmgaard ers a link to prove @An...</td>\n",
              "      <td>germanwings-crash</td>\n",
              "      <td>comment</td>\n",
              "      <td>ers a link to prove intentionally set out to k...</td>\n",
              "      <td>ers link prove intentionally set kill http co ...</td>\n",
              "      <td>er link prove intent set kill jdawh1xh9q</td>\n",
              "      <td>40</td>\n",
              "    </tr>\n",
              "    <tr>\n",
              "      <th>6</th>\n",
              "      <td>Reply</td>\n",
              "      <td>5.82206e+17</td>\n",
              "      <td>5.81386e+17</td>\n",
              "      <td>@USATODAY @khjelmgaard Sure #GermanWings CoPil...</td>\n",
              "      <td>germanwings-crash</td>\n",
              "      <td>comment</td>\n",
              "      <td>sure germanwings copilot andreaslubitz newmoti...</td>\n",
              "      <td>sure germanwings copilot andreaslubitz newmoti...</td>\n",
              "      <td>sure germanw copilot andreaslubitz newmot dead...</td>\n",
              "      <td>73</td>\n",
              "    </tr>\n",
              "  </tbody>\n",
              "</table>\n",
              "</div>"
            ],
            "text/plain": [
              "    Type  ... len_reviews\n",
              "1  Reply  ...          10\n",
              "2  Reply  ...           0\n",
              "4  Reply  ...          68\n",
              "5  Reply  ...          40\n",
              "6  Reply  ...          73\n",
              "\n",
              "[5 rows x 10 columns]"
            ]
          },
          "metadata": {},
          "execution_count": 25
        }
      ]
    },
    {
      "cell_type": "code",
      "metadata": {
        "colab": {
          "base_uri": "https://localhost:8080/",
          "height": 762
        },
        "id": "GAXTVsbe4bWR",
        "outputId": "45b9ec54-f94c-493f-dbba-699a4e43de18"
      },
      "source": [
        "data[data.index.duplicated()]"
      ],
      "execution_count": null,
      "outputs": [
        {
          "output_type": "execute_result",
          "data": {
            "text/html": [
              "<div>\n",
              "<style scoped>\n",
              "    .dataframe tbody tr th:only-of-type {\n",
              "        vertical-align: middle;\n",
              "    }\n",
              "\n",
              "    .dataframe tbody tr th {\n",
              "        vertical-align: top;\n",
              "    }\n",
              "\n",
              "    .dataframe thead th {\n",
              "        text-align: right;\n",
              "    }\n",
              "</style>\n",
              "<table border=\"1\" class=\"dataframe\">\n",
              "  <thead>\n",
              "    <tr style=\"text-align: right;\">\n",
              "      <th></th>\n",
              "      <th>Type</th>\n",
              "      <th>Msg_ID</th>\n",
              "      <th>Source_Msg_ID</th>\n",
              "      <th>Text</th>\n",
              "      <th>Topic</th>\n",
              "      <th>Class</th>\n",
              "      <th>clean_text</th>\n",
              "      <th>text_no_stp</th>\n",
              "      <th>clean_text_new</th>\n",
              "      <th>len_reviews</th>\n",
              "    </tr>\n",
              "  </thead>\n",
              "  <tbody>\n",
              "    <tr>\n",
              "      <th>1</th>\n",
              "      <td>Reply</td>\n",
              "      <td>dfx7l1a</td>\n",
              "      <td>63uefi</td>\n",
              "      <td>But he was from 2001-2009? I don't get what di...</td>\n",
              "      <td>None</td>\n",
              "      <td>comment</td>\n",
              "      <td>but he was from 2001 2009 i don t get what dis...</td>\n",
              "      <td>2001 2009 get distinction making</td>\n",
              "      <td>2001 2009 distinct make</td>\n",
              "      <td>23</td>\n",
              "    </tr>\n",
              "    <tr>\n",
              "      <th>2</th>\n",
              "      <td>Reply</td>\n",
              "      <td>dfx88qg</td>\n",
              "      <td>63uefi</td>\n",
              "      <td>Cheney resigned as CEO of Halliburton on July ...</td>\n",
              "      <td>None</td>\n",
              "      <td>comment</td>\n",
              "      <td>cheney resigned as ceo of halliburton on july ...</td>\n",
              "      <td>cheney resigned ceo halliburton july 25 2000 v...</td>\n",
              "      <td>cheney resign ceo halliburton juli 25 2000 vic...</td>\n",
              "      <td>88</td>\n",
              "    </tr>\n",
              "    <tr>\n",
              "      <th>4</th>\n",
              "      <td>Reply</td>\n",
              "      <td>dfx4yef</td>\n",
              "      <td>63uefi</td>\n",
              "      <td>That is literally not a source, that is Niamh ...</td>\n",
              "      <td>None</td>\n",
              "      <td>comment</td>\n",
              "      <td>that is literally not a source that is niamh m...</td>\n",
              "      <td>literally source niamh mcintyre opinion</td>\n",
              "      <td>liter sourc niamh mcintyr opinion</td>\n",
              "      <td>33</td>\n",
              "    </tr>\n",
              "    <tr>\n",
              "      <th>5</th>\n",
              "      <td>Reply</td>\n",
              "      <td>dfx8wwi</td>\n",
              "      <td>63uefi</td>\n",
              "      <td>Nope, she cites actual statistics.</td>\n",
              "      <td>None</td>\n",
              "      <td>comment</td>\n",
              "      <td>nope she cites actual statistics</td>\n",
              "      <td>nope cites actual statistics</td>\n",
              "      <td>nope cite actual statist</td>\n",
              "      <td>24</td>\n",
              "    </tr>\n",
              "    <tr>\n",
              "      <th>6</th>\n",
              "      <td>Reply</td>\n",
              "      <td>dfx9bi9</td>\n",
              "      <td>63uefi</td>\n",
              "      <td>Literally none, claiming security detail costs...</td>\n",
              "      <td>None</td>\n",
              "      <td>comment</td>\n",
              "      <td>literally none claiming security detail costs ...</td>\n",
              "      <td>literally none claiming security detail costs ...</td>\n",
              "      <td>liter none claim secur detail cost guy salari ...</td>\n",
              "      <td>66</td>\n",
              "    </tr>\n",
              "    <tr>\n",
              "      <th>...</th>\n",
              "      <td>...</td>\n",
              "      <td>...</td>\n",
              "      <td>...</td>\n",
              "      <td>...</td>\n",
              "      <td>...</td>\n",
              "      <td>...</td>\n",
              "      <td>...</td>\n",
              "      <td>...</td>\n",
              "      <td>...</td>\n",
              "      <td>...</td>\n",
              "    </tr>\n",
              "    <tr>\n",
              "      <th>2465</th>\n",
              "      <td>Reply</td>\n",
              "      <td>e3bf4jc</td>\n",
              "      <td>934q6t</td>\n",
              "      <td>No but there is plenty of red meat that is eas...</td>\n",
              "      <td>None</td>\n",
              "      <td>comment</td>\n",
              "      <td>no but there is plenty of red meat that is eas...</td>\n",
              "      <td>plenty red meat easily eaten raw even chimps a...</td>\n",
              "      <td>plenti red meat easili eaten raw even chimp ap...</td>\n",
              "      <td>64</td>\n",
              "    </tr>\n",
              "    <tr>\n",
              "      <th>2466</th>\n",
              "      <td>Reply</td>\n",
              "      <td>e3bg540</td>\n",
              "      <td>934q6t</td>\n",
              "      <td>Go kill a deer... or, let's make it easy, a co...</td>\n",
              "      <td>None</td>\n",
              "      <td>comment</td>\n",
              "      <td>go kill a deer or let s make it easy a cow wit...</td>\n",
              "      <td>go kill deer let make easy cow bare hands eat ...</td>\n",
              "      <td>go kill deer let make easi cow bare hand eat t...</td>\n",
              "      <td>206</td>\n",
              "    </tr>\n",
              "    <tr>\n",
              "      <th>2467</th>\n",
              "      <td>Reply</td>\n",
              "      <td>e3c6wgj</td>\n",
              "      <td>934q6t</td>\n",
              "      <td>Niacin is B3, that's not iodine.</td>\n",
              "      <td>None</td>\n",
              "      <td>comment</td>\n",
              "      <td>niacin is b3 that s not iodine</td>\n",
              "      <td>niacin b3 iodine</td>\n",
              "      <td>niacin b3 iodin</td>\n",
              "      <td>15</td>\n",
              "    </tr>\n",
              "    <tr>\n",
              "      <th>2468</th>\n",
              "      <td>Reply</td>\n",
              "      <td>e3cgyvc</td>\n",
              "      <td>934q6t</td>\n",
              "      <td>[Nascent iodine](https://www.globalhealingcent...</td>\n",
              "      <td>None</td>\n",
              "      <td>comment</td>\n",
              "      <td>nascent iodine https www globalhealingcenter c...</td>\n",
              "      <td>nascent iodine https www globalhealingcenter c...</td>\n",
              "      <td>nascent iodin www globalhealingcent com natur ...</td>\n",
              "      <td>73</td>\n",
              "    </tr>\n",
              "    <tr>\n",
              "      <th>2469</th>\n",
              "      <td>Reply</td>\n",
              "      <td>e3b7gdl</td>\n",
              "      <td>934q6t</td>\n",
              "      <td>likely full of strontium 90 and cesium 134</td>\n",
              "      <td>None</td>\n",
              "      <td>comment</td>\n",
              "      <td>likely full of strontium 90 and cesium 134</td>\n",
              "      <td>likely full strontium 90 cesium 134</td>\n",
              "      <td>like full strontium 90 cesium 134</td>\n",
              "      <td>33</td>\n",
              "    </tr>\n",
              "  </tbody>\n",
              "</table>\n",
              "<p>2287 rows × 10 columns</p>\n",
              "</div>"
            ],
            "text/plain": [
              "       Type  ... len_reviews\n",
              "1     Reply  ...          23\n",
              "2     Reply  ...          88\n",
              "4     Reply  ...          33\n",
              "5     Reply  ...          24\n",
              "6     Reply  ...          66\n",
              "...     ...  ...         ...\n",
              "2465  Reply  ...          64\n",
              "2466  Reply  ...         206\n",
              "2467  Reply  ...          15\n",
              "2468  Reply  ...          73\n",
              "2469  Reply  ...          33\n",
              "\n",
              "[2287 rows x 10 columns]"
            ]
          },
          "metadata": {},
          "execution_count": 26
        }
      ]
    },
    {
      "cell_type": "code",
      "metadata": {
        "id": "w9qD9Tu7b1aM"
      },
      "source": [
        "x=data[\"clean_text_new\"]\n",
        "y=data['Class']"
      ],
      "execution_count": null,
      "outputs": []
    },
    {
      "cell_type": "code",
      "metadata": {
        "colab": {
          "base_uri": "https://localhost:8080/"
        },
        "id": "_FAarWbwIDHM",
        "outputId": "8e809c85-a4ef-4e49-98ba-f4a78e9d9013"
      },
      "source": [
        "x.shape\n"
      ],
      "execution_count": null,
      "outputs": [
        {
          "output_type": "execute_result",
          "data": {
            "text/plain": [
              "(8502,)"
            ]
          },
          "metadata": {},
          "execution_count": 28
        }
      ]
    },
    {
      "cell_type": "code",
      "metadata": {
        "colab": {
          "base_uri": "https://localhost:8080/"
        },
        "id": "Bav-w31AIFkb",
        "outputId": "8b21078d-ec5e-4c72-caad-842fbdf69941"
      },
      "source": [
        "y.shape"
      ],
      "execution_count": null,
      "outputs": [
        {
          "output_type": "execute_result",
          "data": {
            "text/plain": [
              "(8502,)"
            ]
          },
          "metadata": {},
          "execution_count": 29
        }
      ]
    },
    {
      "cell_type": "code",
      "metadata": {
        "id": "kVfeBzNDYmmw"
      },
      "source": [
        "from sklearn.preprocessing import StandardScaler,OneHotEncoder\n",
        "oneE = OneHotEncoder(sparse=False)\n",
        "def one_hot_encoder_1(y,inverse=False):\n",
        "    if inverse:\n",
        "        Y = oneE.inverse_transform(y)\n",
        "    else:\n",
        "        y = np.array(y)\n",
        "        y = y.reshape(-1,1)\n",
        "        Y = oneE.fit_transform(y)\n",
        "    return Y,oneE\n",
        "\n",
        "y,oneE = one_hot_encoder_1(y)"
      ],
      "execution_count": null,
      "outputs": []
    },
    {
      "cell_type": "code",
      "metadata": {
        "id": "YKyE2yQRAQYp"
      },
      "source": [
        "import tensorflow as tf"
      ],
      "execution_count": null,
      "outputs": []
    },
    {
      "cell_type": "code",
      "metadata": {
        "id": "vqSQ6a0Ip25r"
      },
      "source": [
        "from keras.preprocessing.text import Tokenizer\n",
        "from keras.preprocessing.sequence import pad_sequences\n"
      ],
      "execution_count": null,
      "outputs": []
    },
    {
      "cell_type": "code",
      "metadata": {
        "id": "rZ8fQ3e9BUkW"
      },
      "source": [
        "from keras.preprocessing.sequence import pad_sequences"
      ],
      "execution_count": null,
      "outputs": []
    },
    {
      "cell_type": "code",
      "metadata": {
        "id": "oKfVj_61BoJ6"
      },
      "source": [
        "max_words = 10000\n",
        "max_len = 150\n",
        "tok = Tokenizer(num_words=max_words)\n",
        "tok.fit_on_texts(x)\n",
        "X= tok.texts_to_sequences(x)\n",
        "x=tf.keras.preprocessing.sequence.pad_sequences(X, maxlen=50,padding='post')"
      ],
      "execution_count": null,
      "outputs": []
    },
    {
      "cell_type": "code",
      "metadata": {
        "id": "ws-2wJ47ESln"
      },
      "source": [
        "#from imblearn.under_sampling import NearMiss\n",
        "#nm = NearMiss(random_state=42)\n",
        "#x,y=nm.fit_sample(x,y)"
      ],
      "execution_count": null,
      "outputs": []
    },
    {
      "cell_type": "code",
      "metadata": {
        "id": "x-pU6NoN4F5_"
      },
      "source": [
        "from sklearn.model_selection import train_test_split\n",
        "x_train, x_test, y_train, y_test = train_test_split(x,y,test_size=0.3, random_state=1)"
      ],
      "execution_count": null,
      "outputs": []
    },
    {
      "cell_type": "code",
      "metadata": {
        "colab": {
          "base_uri": "https://localhost:8080/"
        },
        "id": "LNatofz9F7r-",
        "outputId": "aaa1e3a2-f675-43e9-9cbd-292e26ce7f2a"
      },
      "source": [
        "from collections import Counter\n",
        "from sklearn.datasets import make_classification\n",
        "from imblearn.over_sampling import RandomOverSampler\n",
        "\n",
        "oversample = RandomOverSampler(sampling_strategy='minority')\n",
        "\n",
        "x_train, y_train = oversample.fit_resample(x_train, y_train)\n"
      ],
      "execution_count": null,
      "outputs": [
        {
          "output_type": "stream",
          "name": "stderr",
          "text": [
            "/usr/local/lib/python3.7/dist-packages/sklearn/externals/six.py:31: FutureWarning: The module is deprecated in version 0.21 and will be removed in version 0.23 since we've dropped support for Python 2.7. Please rely on the official version of six (https://pypi.org/project/six/).\n",
            "  \"(https://pypi.org/project/six/).\", FutureWarning)\n",
            "/usr/local/lib/python3.7/dist-packages/sklearn/utils/deprecation.py:144: FutureWarning: The sklearn.neighbors.base module is  deprecated in version 0.22 and will be removed in version 0.24. The corresponding classes / functions should instead be imported from sklearn.neighbors. Anything that cannot be imported from sklearn.neighbors is now part of the private API.\n",
            "  warnings.warn(message, FutureWarning)\n",
            "/usr/local/lib/python3.7/dist-packages/sklearn/utils/deprecation.py:87: FutureWarning: Function safe_indexing is deprecated; safe_indexing is deprecated in version 0.22 and will be removed in version 0.24.\n",
            "  warnings.warn(msg, category=FutureWarning)\n"
          ]
        }
      ]
    },
    {
      "cell_type": "code",
      "metadata": {
        "id": "Sd2vCGy6VSG0"
      },
      "source": [
        "x_train=pd.DataFrame(x_train)"
      ],
      "execution_count": null,
      "outputs": []
    },
    {
      "cell_type": "code",
      "metadata": {
        "colab": {
          "base_uri": "https://localhost:8080/"
        },
        "id": "vT6vfc2pVXqJ",
        "outputId": "777b5a7d-0921-464a-d13f-7754ef69d8d9"
      },
      "source": [
        "x_train.shape"
      ],
      "execution_count": null,
      "outputs": [
        {
          "output_type": "execute_result",
          "data": {
            "text/plain": [
              "(10108, 50)"
            ]
          },
          "metadata": {},
          "execution_count": 39
        }
      ]
    },
    {
      "cell_type": "code",
      "metadata": {
        "id": "GmvORZoUVaNy"
      },
      "source": [
        "y_train=pd.DataFrame(y_train)"
      ],
      "execution_count": null,
      "outputs": []
    },
    {
      "cell_type": "code",
      "metadata": {
        "colab": {
          "base_uri": "https://localhost:8080/"
        },
        "id": "xZyZjAg4VerS",
        "outputId": "39c4a200-6927-41f5-b77e-55bec2a02d44"
      },
      "source": [
        "y_train.shape"
      ],
      "execution_count": null,
      "outputs": [
        {
          "output_type": "execute_result",
          "data": {
            "text/plain": [
              "(10108, 4)"
            ]
          },
          "metadata": {},
          "execution_count": 41
        }
      ]
    },
    {
      "cell_type": "code",
      "metadata": {
        "colab": {
          "base_uri": "https://localhost:8080/"
        },
        "id": "WrEY3_nQVNEM",
        "outputId": "a865f67d-b880-431c-9f15-7582d55626ad"
      },
      "source": [
        "print(x_train)"
      ],
      "execution_count": null,
      "outputs": [
        {
          "output_type": "stream",
          "name": "stdout",
          "text": [
            "         0     1     2     3     4     5     6   ...  43  44  45  46  47  48  49\n",
            "0       204  1444  7475     0     0     0     0  ...   0   0   0   0   0   0   0\n",
            "1      1569   384   226   178  1338   848  7574  ...   0   0   0   0   0   0   0\n",
            "2      1063   479    16    32    14   267  1584  ...   0   0   0   0   0   0   0\n",
            "3      4181     0     0     0     0     0     0  ...   0   0   0   0   0   0   0\n",
            "4      3920  3921  4906  1096    19   342  3731  ...   0   0   0   0   0   0   0\n",
            "...     ...   ...   ...   ...   ...   ...   ...  ...  ..  ..  ..  ..  ..  ..  ..\n",
            "10103     5   391   489  7829  2770  4697  7830  ...   0   0   0   0   0   0   0\n",
            "10104     3   147    24  1020   276    76   174  ...   0   0   0   0   0   0   0\n",
            "10105  1404   476    18  1785    76     0     0  ...   0   0   0   0   0   0   0\n",
            "10106  3902  2602   397  1100  1844   121   447  ...   0   0   0   0   0   0   0\n",
            "10107   482    85   572  3188     0     0     0  ...   0   0   0   0   0   0   0\n",
            "\n",
            "[10108 rows x 50 columns]\n"
          ]
        }
      ]
    },
    {
      "cell_type": "code",
      "metadata": {
        "id": "8_QrVgqU90Sb"
      },
      "source": [
        "import keras as keras"
      ],
      "execution_count": null,
      "outputs": []
    },
    {
      "cell_type": "code",
      "metadata": {
        "id": "Ul6keDP_5oGX"
      },
      "source": [
        "import tensorflow as tf"
      ],
      "execution_count": null,
      "outputs": []
    },
    {
      "cell_type": "code",
      "metadata": {
        "id": "9XHnW-KD5Wz8"
      },
      "source": [
        "from keras.preprocessing.text import Tokenizer\n",
        "from keras.preprocessing.sequence import pad_sequences\n",
        "tf.keras.preprocessing.sequence.pad_sequences\n",
        "from keras.models import Sequential\n",
        "from keras.layers import Dense\n",
        "from keras.layers import LSTM\n",
        "from keras.layers.embeddings import Embedding\n",
        "from keras.preprocessing import sequence"
      ],
      "execution_count": null,
      "outputs": []
    },
    {
      "cell_type": "code",
      "metadata": {
        "id": "QgRwD3sVPueS"
      },
      "source": [
        "from keras.layers import Embedding\n",
        "from keras.layers import Dense, Input, Flatten\n",
        "from keras.layers import Conv1D, MaxPooling1D, Embedding, Dropout, LSTM, GRU, Bidirectional\n",
        "from keras.models import Model\n",
        "from keras.callbacks import ModelCheckpoint\n",
        "import matplotlib.pyplot as plt\n",
        "plt.switch_backend('agg')\n",
        "from keras import backend as K\n",
        "\n",
        "from keras import initializers"
      ],
      "execution_count": null,
      "outputs": []
    },
    {
      "cell_type": "code",
      "metadata": {
        "id": "5QClB6wQ-mVi"
      },
      "source": [
        "embedding_vecor_length = 32"
      ],
      "execution_count": null,
      "outputs": []
    },
    {
      "cell_type": "code",
      "metadata": {
        "id": "_BegyiR8ecC9"
      },
      "source": [
        "from tensorflow.keras.optimizers import Adam\n",
        "opt = Adam(learning_rate=0.01)"
      ],
      "execution_count": null,
      "outputs": []
    },
    {
      "cell_type": "code",
      "metadata": {
        "colab": {
          "base_uri": "https://localhost:8080/"
        },
        "id": "eYmsyHWzZBNC",
        "outputId": "5b4a4833-35c8-454c-f479-5e03905905e2"
      },
      "source": [
        "model = Sequential()\n",
        "model.add(Embedding(max_words, embedding_vecor_length, input_length=max_len))\n",
        "model.add(LSTM(100, dropout=0.2, recurrent_dropout=0.2))\n",
        "model.add(Dense(1, activation='relu'))\n",
        "model.add(Dense(1, activation='sigmoid'))\n",
        "model.compile(loss='mean_squared_error', optimizer=opt, metrics=['accuracy'])\n",
        "print(model.summary())"
      ],
      "execution_count": null,
      "outputs": [
        {
          "output_type": "stream",
          "name": "stdout",
          "text": [
            "Model: \"sequential\"\n",
            "_________________________________________________________________\n",
            "Layer (type)                 Output Shape              Param #   \n",
            "=================================================================\n",
            "embedding (Embedding)        (None, 150, 32)           320000    \n",
            "_________________________________________________________________\n",
            "lstm (LSTM)                  (None, 100)               53200     \n",
            "_________________________________________________________________\n",
            "dense (Dense)                (None, 1)                 101       \n",
            "_________________________________________________________________\n",
            "dense_1 (Dense)              (None, 1)                 2         \n",
            "=================================================================\n",
            "Total params: 373,303\n",
            "Trainable params: 373,303\n",
            "Non-trainable params: 0\n",
            "_________________________________________________________________\n",
            "None\n"
          ]
        }
      ]
    },
    {
      "cell_type": "code",
      "metadata": {
        "colab": {
          "base_uri": "https://localhost:8080/"
        },
        "id": "b5SJyMFRdQYm",
        "outputId": "349a9408-e9e3-4f3e-b059-f21472927252"
      },
      "source": [
        "model.fit(x_train,y_train,validation_data=(x_test, y_test),batch_size=10,epochs=10)"
      ],
      "execution_count": null,
      "outputs": [
        {
          "output_type": "stream",
          "name": "stdout",
          "text": [
            "Epoch 1/10\n",
            "WARNING:tensorflow:Model was constructed with shape (None, 150) for input KerasTensor(type_spec=TensorSpec(shape=(None, 150), dtype=tf.float32, name='embedding_input'), name='embedding_input', description=\"created by layer 'embedding_input'\"), but it was called on an input with incompatible shape (None, 50).\n",
            "WARNING:tensorflow:Model was constructed with shape (None, 150) for input KerasTensor(type_spec=TensorSpec(shape=(None, 150), dtype=tf.float32, name='embedding_input'), name='embedding_input', description=\"created by layer 'embedding_input'\"), but it was called on an input with incompatible shape (None, 50).\n",
            "1011/1011 [==============================] - ETA: 0s - loss: 0.1885 - accuracy: 0.7500WARNING:tensorflow:Model was constructed with shape (None, 150) for input KerasTensor(type_spec=TensorSpec(shape=(None, 150), dtype=tf.float32, name='embedding_input'), name='embedding_input', description=\"created by layer 'embedding_input'\"), but it was called on an input with incompatible shape (None, 50).\n",
            "1011/1011 [==============================] - 90s 86ms/step - loss: 0.1885 - accuracy: 0.7500 - val_loss: 0.1875 - val_accuracy: 0.7500\n",
            "Epoch 2/10\n",
            "1011/1011 [==============================] - 87s 86ms/step - loss: 0.1875 - accuracy: 0.7500 - val_loss: 0.1875 - val_accuracy: 0.7500\n",
            "Epoch 3/10\n",
            "1011/1011 [==============================] - 87s 86ms/step - loss: 0.1875 - accuracy: 0.7500 - val_loss: 0.1875 - val_accuracy: 0.7500\n",
            "Epoch 4/10\n",
            "1011/1011 [==============================] - 87s 87ms/step - loss: 0.1875 - accuracy: 0.7500 - val_loss: 0.1875 - val_accuracy: 0.7500\n",
            "Epoch 5/10\n",
            "1011/1011 [==============================] - 87s 86ms/step - loss: 0.1875 - accuracy: 0.7500 - val_loss: 0.1875 - val_accuracy: 0.7500\n",
            "Epoch 6/10\n",
            "1011/1011 [==============================] - 87s 86ms/step - loss: 0.1875 - accuracy: 0.7500 - val_loss: 0.1875 - val_accuracy: 0.7500\n",
            "Epoch 7/10\n",
            "1011/1011 [==============================] - 87s 86ms/step - loss: 0.1875 - accuracy: 0.7500 - val_loss: 0.1875 - val_accuracy: 0.7500\n",
            "Epoch 8/10\n",
            "1011/1011 [==============================] - 87s 86ms/step - loss: 0.1875 - accuracy: 0.7500 - val_loss: 0.1875 - val_accuracy: 0.7500\n",
            "Epoch 9/10\n",
            "1011/1011 [==============================] - 87s 86ms/step - loss: 0.1875 - accuracy: 0.7500 - val_loss: 0.1875 - val_accuracy: 0.7500\n",
            "Epoch 10/10\n",
            "1011/1011 [==============================] - 87s 86ms/step - loss: 0.1875 - accuracy: 0.7500 - val_loss: 0.1875 - val_accuracy: 0.7500\n"
          ]
        },
        {
          "output_type": "execute_result",
          "data": {
            "text/plain": [
              "<keras.callbacks.History at 0x7ff699611210>"
            ]
          },
          "metadata": {},
          "execution_count": 51
        }
      ]
    },
    {
      "cell_type": "code",
      "metadata": {
        "id": "J9tk778tclEE"
      },
      "source": [
        "from sklearn.model_selection import GridSearchCV\n",
        "from keras.constraints  import maxnorm"
      ],
      "execution_count": null,
      "outputs": []
    },
    {
      "cell_type": "code",
      "metadata": {
        "id": "IylbbvHwd7tt"
      },
      "source": [
        "from sklearn.base import TransformerMixin, BaseEstimator\n",
        "from sklearn.pipeline import Pipeline"
      ],
      "execution_count": null,
      "outputs": []
    },
    {
      "cell_type": "code",
      "metadata": {
        "id": "Ptf6iVFrdfUr"
      },
      "source": [
        "class TextPreProc(BaseEstimator,TransformerMixin):\n",
        "    def __init__(self, use_mention=False):\n",
        "        self.use_mention = use_mention\n",
        "    \n",
        "    def fit(self, X, y=None):\n",
        "        return self\n",
        "    \n",
        "    def transform(self, X, y=None):\n",
        "        # We can choose between keeping the mentions\n",
        "        # or deleting them\n",
        "        if self.use_mention:\n",
        "            X = X.str.replace(r\"@[a-zA-Z0-9_]* \", \" @tags \")\n",
        "        else:\n",
        "            X = X.str.replace(r\"@[a-zA-Z0-9_]* \", \"\")\n",
        "            \n",
        "        # Keeping only the word after the #\n",
        "        X = X.str.replace(\"#\", \"\")\n",
        "        X = X.str.replace(r\"[-\\.\\n]\", \"\")\n",
        "        # Removing HTML garbage\n",
        "        X = X.str.replace(r\"&\\w+;\", \"\")\n",
        "        # Removing links\n",
        "        X = X.str.replace(r\"https?://\\S*\", \"\")\n",
        "        # replace repeated letters with only two occurences\n",
        "        # heeeelllloooo => heelloo\n",
        "        X = X.str.replace(r\"(.)\\1+\", r\"\\1\\1\")\n",
        "        # mark emoticons as happy or sad\n",
        "        X = X.str.replace(HAPPY_EMO, \" happyemoticons \")\n",
        "        X = X.str.replace(SAD_EMO, \" sademoticons \")\n",
        "        X = X.str.lower()\n",
        "        return X"
      ],
      "execution_count": null,
      "outputs": []
    },
    {
      "cell_type": "code",
      "metadata": {
        "id": "lNP7JfTVrPQd"
      },
      "source": [
        "grid_search_pipeline = Pipeline([\n",
        "    ('text_pre_processing', TextPreProc()),\n",
        "\n",
        "])\n"
      ],
      "execution_count": null,
      "outputs": []
    },
    {
      "cell_type": "code",
      "metadata": {
        "id": "DQLs3N5hQ2sj"
      },
      "source": [
        "params = [\n",
        "    {\n",
        "        'text_pre_processing__use_mention': [True, False],\n",
        "        'vectorizer__max_features': [1000, 2000, 5000, 10000, 20000, None],\n",
        "        'vectorizer__ngram_range': [(1,1), (1,2)],\n",
        "    },\n",
        "]"
      ],
      "execution_count": null,
      "outputs": []
    },
    {
      "cell_type": "code",
      "metadata": {
        "id": "fexyr6crVVw5",
        "colab": {
          "base_uri": "https://localhost:8080/",
          "height": 361
        },
        "outputId": "7f3c3122-b2d1-41b2-88c4-d3caa0d24ed9"
      },
      "source": [
        "grid_search = GridSearchCV(grid_search_pipeline, params, cv=5, scoring='f1')\n",
        "grid_search.fit(x_train, y_train)\n",
        "print(grid_search.best_params_)"
      ],
      "execution_count": null,
      "outputs": [
        {
          "output_type": "error",
          "ename": "ValueError",
          "evalue": "ignored",
          "traceback": [
            "\u001b[0;31m---------------------------------------------------------------------------\u001b[0m",
            "\u001b[0;31mValueError\u001b[0m                                Traceback (most recent call last)",
            "\u001b[0;32m<ipython-input-87-fcbd349172a7>\u001b[0m in \u001b[0;36m<module>\u001b[0;34m()\u001b[0m\n\u001b[1;32m      1\u001b[0m \u001b[0mgrid_search\u001b[0m \u001b[0;34m=\u001b[0m \u001b[0mGridSearchCV\u001b[0m\u001b[0;34m(\u001b[0m\u001b[0mgrid_search_pipeline\u001b[0m\u001b[0;34m,\u001b[0m \u001b[0mparams\u001b[0m\u001b[0;34m,\u001b[0m \u001b[0mcv\u001b[0m\u001b[0;34m=\u001b[0m\u001b[0;36m5\u001b[0m\u001b[0;34m,\u001b[0m \u001b[0mscoring\u001b[0m\u001b[0;34m=\u001b[0m\u001b[0;34m'f1'\u001b[0m\u001b[0;34m)\u001b[0m\u001b[0;34m\u001b[0m\u001b[0;34m\u001b[0m\u001b[0m\n\u001b[0;32m----> 2\u001b[0;31m \u001b[0mgrid_search\u001b[0m\u001b[0;34m.\u001b[0m\u001b[0mfit\u001b[0m\u001b[0;34m(\u001b[0m\u001b[0mx_train\u001b[0m\u001b[0;34m,\u001b[0m \u001b[0my_train\u001b[0m\u001b[0;34m)\u001b[0m\u001b[0;34m\u001b[0m\u001b[0;34m\u001b[0m\u001b[0m\n\u001b[0m\u001b[1;32m      3\u001b[0m \u001b[0mprint\u001b[0m\u001b[0;34m(\u001b[0m\u001b[0mgrid_search\u001b[0m\u001b[0;34m.\u001b[0m\u001b[0mbest_params_\u001b[0m\u001b[0;34m)\u001b[0m\u001b[0;34m\u001b[0m\u001b[0;34m\u001b[0m\u001b[0m\n",
            "\u001b[0;32m/usr/local/lib/python3.7/dist-packages/sklearn/model_selection/_search.py\u001b[0m in \u001b[0;36mfit\u001b[0;34m(self, X, y, groups, **fit_params)\u001b[0m\n\u001b[1;32m    708\u001b[0m                 \u001b[0;32mreturn\u001b[0m \u001b[0mresults\u001b[0m\u001b[0;34m\u001b[0m\u001b[0;34m\u001b[0m\u001b[0m\n\u001b[1;32m    709\u001b[0m \u001b[0;34m\u001b[0m\u001b[0m\n\u001b[0;32m--> 710\u001b[0;31m             \u001b[0mself\u001b[0m\u001b[0;34m.\u001b[0m\u001b[0m_run_search\u001b[0m\u001b[0;34m(\u001b[0m\u001b[0mevaluate_candidates\u001b[0m\u001b[0;34m)\u001b[0m\u001b[0;34m\u001b[0m\u001b[0;34m\u001b[0m\u001b[0m\n\u001b[0m\u001b[1;32m    711\u001b[0m \u001b[0;34m\u001b[0m\u001b[0m\n\u001b[1;32m    712\u001b[0m         \u001b[0;31m# For multi-metric evaluation, store the best_index_, best_params_ and\u001b[0m\u001b[0;34m\u001b[0m\u001b[0;34m\u001b[0m\u001b[0;34m\u001b[0m\u001b[0m\n",
            "\u001b[0;32m/usr/local/lib/python3.7/dist-packages/sklearn/model_selection/_search.py\u001b[0m in \u001b[0;36m_run_search\u001b[0;34m(self, evaluate_candidates)\u001b[0m\n\u001b[1;32m   1149\u001b[0m     \u001b[0;32mdef\u001b[0m \u001b[0m_run_search\u001b[0m\u001b[0;34m(\u001b[0m\u001b[0mself\u001b[0m\u001b[0;34m,\u001b[0m \u001b[0mevaluate_candidates\u001b[0m\u001b[0;34m)\u001b[0m\u001b[0;34m:\u001b[0m\u001b[0;34m\u001b[0m\u001b[0;34m\u001b[0m\u001b[0m\n\u001b[1;32m   1150\u001b[0m         \u001b[0;34m\"\"\"Search all candidates in param_grid\"\"\"\u001b[0m\u001b[0;34m\u001b[0m\u001b[0;34m\u001b[0m\u001b[0m\n\u001b[0;32m-> 1151\u001b[0;31m         \u001b[0mevaluate_candidates\u001b[0m\u001b[0;34m(\u001b[0m\u001b[0mParameterGrid\u001b[0m\u001b[0;34m(\u001b[0m\u001b[0mself\u001b[0m\u001b[0;34m.\u001b[0m\u001b[0mparam_grid\u001b[0m\u001b[0;34m)\u001b[0m\u001b[0;34m)\u001b[0m\u001b[0;34m\u001b[0m\u001b[0;34m\u001b[0m\u001b[0m\n\u001b[0m\u001b[1;32m   1152\u001b[0m \u001b[0;34m\u001b[0m\u001b[0m\n\u001b[1;32m   1153\u001b[0m \u001b[0;34m\u001b[0m\u001b[0m\n",
            "\u001b[0;32m/usr/local/lib/python3.7/dist-packages/sklearn/model_selection/_search.py\u001b[0m in \u001b[0;36mevaluate_candidates\u001b[0;34m(candidate_params)\u001b[0m\n\u001b[1;32m    687\u001b[0m                                \u001b[0;32mfor\u001b[0m \u001b[0mparameters\u001b[0m\u001b[0;34m,\u001b[0m \u001b[0;34m(\u001b[0m\u001b[0mtrain\u001b[0m\u001b[0;34m,\u001b[0m \u001b[0mtest\u001b[0m\u001b[0;34m)\u001b[0m\u001b[0;34m\u001b[0m\u001b[0;34m\u001b[0m\u001b[0m\n\u001b[1;32m    688\u001b[0m                                in product(candidate_params,\n\u001b[0;32m--> 689\u001b[0;31m                                           cv.split(X, y, groups)))\n\u001b[0m\u001b[1;32m    690\u001b[0m \u001b[0;34m\u001b[0m\u001b[0m\n\u001b[1;32m    691\u001b[0m                 \u001b[0;32mif\u001b[0m \u001b[0mlen\u001b[0m\u001b[0;34m(\u001b[0m\u001b[0mout\u001b[0m\u001b[0;34m)\u001b[0m \u001b[0;34m<\u001b[0m \u001b[0;36m1\u001b[0m\u001b[0;34m:\u001b[0m\u001b[0;34m\u001b[0m\u001b[0;34m\u001b[0m\u001b[0m\n",
            "\u001b[0;32m/usr/local/lib/python3.7/dist-packages/joblib/parallel.py\u001b[0m in \u001b[0;36m__call__\u001b[0;34m(self, iterable)\u001b[0m\n\u001b[1;32m   1039\u001b[0m             \u001b[0;31m# remaining jobs.\u001b[0m\u001b[0;34m\u001b[0m\u001b[0;34m\u001b[0m\u001b[0;34m\u001b[0m\u001b[0m\n\u001b[1;32m   1040\u001b[0m             \u001b[0mself\u001b[0m\u001b[0;34m.\u001b[0m\u001b[0m_iterating\u001b[0m \u001b[0;34m=\u001b[0m \u001b[0;32mFalse\u001b[0m\u001b[0;34m\u001b[0m\u001b[0;34m\u001b[0m\u001b[0m\n\u001b[0;32m-> 1041\u001b[0;31m             \u001b[0;32mif\u001b[0m \u001b[0mself\u001b[0m\u001b[0;34m.\u001b[0m\u001b[0mdispatch_one_batch\u001b[0m\u001b[0;34m(\u001b[0m\u001b[0miterator\u001b[0m\u001b[0;34m)\u001b[0m\u001b[0;34m:\u001b[0m\u001b[0;34m\u001b[0m\u001b[0;34m\u001b[0m\u001b[0m\n\u001b[0m\u001b[1;32m   1042\u001b[0m                 \u001b[0mself\u001b[0m\u001b[0;34m.\u001b[0m\u001b[0m_iterating\u001b[0m \u001b[0;34m=\u001b[0m \u001b[0mself\u001b[0m\u001b[0;34m.\u001b[0m\u001b[0m_original_iterator\u001b[0m \u001b[0;32mis\u001b[0m \u001b[0;32mnot\u001b[0m \u001b[0;32mNone\u001b[0m\u001b[0;34m\u001b[0m\u001b[0;34m\u001b[0m\u001b[0m\n\u001b[1;32m   1043\u001b[0m \u001b[0;34m\u001b[0m\u001b[0m\n",
            "\u001b[0;32m/usr/local/lib/python3.7/dist-packages/joblib/parallel.py\u001b[0m in \u001b[0;36mdispatch_one_batch\u001b[0;34m(self, iterator)\u001b[0m\n\u001b[1;32m    857\u001b[0m                 \u001b[0;32mreturn\u001b[0m \u001b[0;32mFalse\u001b[0m\u001b[0;34m\u001b[0m\u001b[0;34m\u001b[0m\u001b[0m\n\u001b[1;32m    858\u001b[0m             \u001b[0;32melse\u001b[0m\u001b[0;34m:\u001b[0m\u001b[0;34m\u001b[0m\u001b[0;34m\u001b[0m\u001b[0m\n\u001b[0;32m--> 859\u001b[0;31m                 \u001b[0mself\u001b[0m\u001b[0;34m.\u001b[0m\u001b[0m_dispatch\u001b[0m\u001b[0;34m(\u001b[0m\u001b[0mtasks\u001b[0m\u001b[0;34m)\u001b[0m\u001b[0;34m\u001b[0m\u001b[0;34m\u001b[0m\u001b[0m\n\u001b[0m\u001b[1;32m    860\u001b[0m                 \u001b[0;32mreturn\u001b[0m \u001b[0;32mTrue\u001b[0m\u001b[0;34m\u001b[0m\u001b[0;34m\u001b[0m\u001b[0m\n\u001b[1;32m    861\u001b[0m \u001b[0;34m\u001b[0m\u001b[0m\n",
            "\u001b[0;32m/usr/local/lib/python3.7/dist-packages/joblib/parallel.py\u001b[0m in \u001b[0;36m_dispatch\u001b[0;34m(self, batch)\u001b[0m\n\u001b[1;32m    775\u001b[0m         \u001b[0;32mwith\u001b[0m \u001b[0mself\u001b[0m\u001b[0;34m.\u001b[0m\u001b[0m_lock\u001b[0m\u001b[0;34m:\u001b[0m\u001b[0;34m\u001b[0m\u001b[0;34m\u001b[0m\u001b[0m\n\u001b[1;32m    776\u001b[0m             \u001b[0mjob_idx\u001b[0m \u001b[0;34m=\u001b[0m \u001b[0mlen\u001b[0m\u001b[0;34m(\u001b[0m\u001b[0mself\u001b[0m\u001b[0;34m.\u001b[0m\u001b[0m_jobs\u001b[0m\u001b[0;34m)\u001b[0m\u001b[0;34m\u001b[0m\u001b[0;34m\u001b[0m\u001b[0m\n\u001b[0;32m--> 777\u001b[0;31m             \u001b[0mjob\u001b[0m \u001b[0;34m=\u001b[0m \u001b[0mself\u001b[0m\u001b[0;34m.\u001b[0m\u001b[0m_backend\u001b[0m\u001b[0;34m.\u001b[0m\u001b[0mapply_async\u001b[0m\u001b[0;34m(\u001b[0m\u001b[0mbatch\u001b[0m\u001b[0;34m,\u001b[0m \u001b[0mcallback\u001b[0m\u001b[0;34m=\u001b[0m\u001b[0mcb\u001b[0m\u001b[0;34m)\u001b[0m\u001b[0;34m\u001b[0m\u001b[0;34m\u001b[0m\u001b[0m\n\u001b[0m\u001b[1;32m    778\u001b[0m             \u001b[0;31m# A job can complete so quickly than its callback is\u001b[0m\u001b[0;34m\u001b[0m\u001b[0;34m\u001b[0m\u001b[0;34m\u001b[0m\u001b[0m\n\u001b[1;32m    779\u001b[0m             \u001b[0;31m# called before we get here, causing self._jobs to\u001b[0m\u001b[0;34m\u001b[0m\u001b[0;34m\u001b[0m\u001b[0;34m\u001b[0m\u001b[0m\n",
            "\u001b[0;32m/usr/local/lib/python3.7/dist-packages/joblib/_parallel_backends.py\u001b[0m in \u001b[0;36mapply_async\u001b[0;34m(self, func, callback)\u001b[0m\n\u001b[1;32m    206\u001b[0m     \u001b[0;32mdef\u001b[0m \u001b[0mapply_async\u001b[0m\u001b[0;34m(\u001b[0m\u001b[0mself\u001b[0m\u001b[0;34m,\u001b[0m \u001b[0mfunc\u001b[0m\u001b[0;34m,\u001b[0m \u001b[0mcallback\u001b[0m\u001b[0;34m=\u001b[0m\u001b[0;32mNone\u001b[0m\u001b[0;34m)\u001b[0m\u001b[0;34m:\u001b[0m\u001b[0;34m\u001b[0m\u001b[0;34m\u001b[0m\u001b[0m\n\u001b[1;32m    207\u001b[0m         \u001b[0;34m\"\"\"Schedule a func to be run\"\"\"\u001b[0m\u001b[0;34m\u001b[0m\u001b[0;34m\u001b[0m\u001b[0m\n\u001b[0;32m--> 208\u001b[0;31m         \u001b[0mresult\u001b[0m \u001b[0;34m=\u001b[0m \u001b[0mImmediateResult\u001b[0m\u001b[0;34m(\u001b[0m\u001b[0mfunc\u001b[0m\u001b[0;34m)\u001b[0m\u001b[0;34m\u001b[0m\u001b[0;34m\u001b[0m\u001b[0m\n\u001b[0m\u001b[1;32m    209\u001b[0m         \u001b[0;32mif\u001b[0m \u001b[0mcallback\u001b[0m\u001b[0;34m:\u001b[0m\u001b[0;34m\u001b[0m\u001b[0;34m\u001b[0m\u001b[0m\n\u001b[1;32m    210\u001b[0m             \u001b[0mcallback\u001b[0m\u001b[0;34m(\u001b[0m\u001b[0mresult\u001b[0m\u001b[0;34m)\u001b[0m\u001b[0;34m\u001b[0m\u001b[0;34m\u001b[0m\u001b[0m\n",
            "\u001b[0;32m/usr/local/lib/python3.7/dist-packages/joblib/_parallel_backends.py\u001b[0m in \u001b[0;36m__init__\u001b[0;34m(self, batch)\u001b[0m\n\u001b[1;32m    570\u001b[0m         \u001b[0;31m# Don't delay the application, to avoid keeping the input\u001b[0m\u001b[0;34m\u001b[0m\u001b[0;34m\u001b[0m\u001b[0;34m\u001b[0m\u001b[0m\n\u001b[1;32m    571\u001b[0m         \u001b[0;31m# arguments in memory\u001b[0m\u001b[0;34m\u001b[0m\u001b[0;34m\u001b[0m\u001b[0;34m\u001b[0m\u001b[0m\n\u001b[0;32m--> 572\u001b[0;31m         \u001b[0mself\u001b[0m\u001b[0;34m.\u001b[0m\u001b[0mresults\u001b[0m \u001b[0;34m=\u001b[0m \u001b[0mbatch\u001b[0m\u001b[0;34m(\u001b[0m\u001b[0;34m)\u001b[0m\u001b[0;34m\u001b[0m\u001b[0;34m\u001b[0m\u001b[0m\n\u001b[0m\u001b[1;32m    573\u001b[0m \u001b[0;34m\u001b[0m\u001b[0m\n\u001b[1;32m    574\u001b[0m     \u001b[0;32mdef\u001b[0m \u001b[0mget\u001b[0m\u001b[0;34m(\u001b[0m\u001b[0mself\u001b[0m\u001b[0;34m)\u001b[0m\u001b[0;34m:\u001b[0m\u001b[0;34m\u001b[0m\u001b[0;34m\u001b[0m\u001b[0m\n",
            "\u001b[0;32m/usr/local/lib/python3.7/dist-packages/joblib/parallel.py\u001b[0m in \u001b[0;36m__call__\u001b[0;34m(self)\u001b[0m\n\u001b[1;32m    261\u001b[0m         \u001b[0;32mwith\u001b[0m \u001b[0mparallel_backend\u001b[0m\u001b[0;34m(\u001b[0m\u001b[0mself\u001b[0m\u001b[0;34m.\u001b[0m\u001b[0m_backend\u001b[0m\u001b[0;34m,\u001b[0m \u001b[0mn_jobs\u001b[0m\u001b[0;34m=\u001b[0m\u001b[0mself\u001b[0m\u001b[0;34m.\u001b[0m\u001b[0m_n_jobs\u001b[0m\u001b[0;34m)\u001b[0m\u001b[0;34m:\u001b[0m\u001b[0;34m\u001b[0m\u001b[0;34m\u001b[0m\u001b[0m\n\u001b[1;32m    262\u001b[0m             return [func(*args, **kwargs)\n\u001b[0;32m--> 263\u001b[0;31m                     for func, args, kwargs in self.items]\n\u001b[0m\u001b[1;32m    264\u001b[0m \u001b[0;34m\u001b[0m\u001b[0m\n\u001b[1;32m    265\u001b[0m     \u001b[0;32mdef\u001b[0m \u001b[0m__reduce__\u001b[0m\u001b[0;34m(\u001b[0m\u001b[0mself\u001b[0m\u001b[0;34m)\u001b[0m\u001b[0;34m:\u001b[0m\u001b[0;34m\u001b[0m\u001b[0;34m\u001b[0m\u001b[0m\n",
            "\u001b[0;32m/usr/local/lib/python3.7/dist-packages/joblib/parallel.py\u001b[0m in \u001b[0;36m<listcomp>\u001b[0;34m(.0)\u001b[0m\n\u001b[1;32m    261\u001b[0m         \u001b[0;32mwith\u001b[0m \u001b[0mparallel_backend\u001b[0m\u001b[0;34m(\u001b[0m\u001b[0mself\u001b[0m\u001b[0;34m.\u001b[0m\u001b[0m_backend\u001b[0m\u001b[0;34m,\u001b[0m \u001b[0mn_jobs\u001b[0m\u001b[0;34m=\u001b[0m\u001b[0mself\u001b[0m\u001b[0;34m.\u001b[0m\u001b[0m_n_jobs\u001b[0m\u001b[0;34m)\u001b[0m\u001b[0;34m:\u001b[0m\u001b[0;34m\u001b[0m\u001b[0;34m\u001b[0m\u001b[0m\n\u001b[1;32m    262\u001b[0m             return [func(*args, **kwargs)\n\u001b[0;32m--> 263\u001b[0;31m                     for func, args, kwargs in self.items]\n\u001b[0m\u001b[1;32m    264\u001b[0m \u001b[0;34m\u001b[0m\u001b[0m\n\u001b[1;32m    265\u001b[0m     \u001b[0;32mdef\u001b[0m \u001b[0m__reduce__\u001b[0m\u001b[0;34m(\u001b[0m\u001b[0mself\u001b[0m\u001b[0;34m)\u001b[0m\u001b[0;34m:\u001b[0m\u001b[0;34m\u001b[0m\u001b[0;34m\u001b[0m\u001b[0m\n",
            "\u001b[0;32m/usr/local/lib/python3.7/dist-packages/sklearn/model_selection/_validation.py\u001b[0m in \u001b[0;36m_fit_and_score\u001b[0;34m(estimator, X, y, scorer, train, test, verbose, parameters, fit_params, return_train_score, return_parameters, return_n_test_samples, return_times, return_estimator, error_score)\u001b[0m\n\u001b[1;32m    502\u001b[0m             \u001b[0mcloned_parameters\u001b[0m\u001b[0;34m[\u001b[0m\u001b[0mk\u001b[0m\u001b[0;34m]\u001b[0m \u001b[0;34m=\u001b[0m \u001b[0mclone\u001b[0m\u001b[0;34m(\u001b[0m\u001b[0mv\u001b[0m\u001b[0;34m,\u001b[0m \u001b[0msafe\u001b[0m\u001b[0;34m=\u001b[0m\u001b[0;32mFalse\u001b[0m\u001b[0;34m)\u001b[0m\u001b[0;34m\u001b[0m\u001b[0;34m\u001b[0m\u001b[0m\n\u001b[1;32m    503\u001b[0m \u001b[0;34m\u001b[0m\u001b[0m\n\u001b[0;32m--> 504\u001b[0;31m         \u001b[0mestimator\u001b[0m \u001b[0;34m=\u001b[0m \u001b[0mestimator\u001b[0m\u001b[0;34m.\u001b[0m\u001b[0mset_params\u001b[0m\u001b[0;34m(\u001b[0m\u001b[0;34m**\u001b[0m\u001b[0mcloned_parameters\u001b[0m\u001b[0;34m)\u001b[0m\u001b[0;34m\u001b[0m\u001b[0;34m\u001b[0m\u001b[0m\n\u001b[0m\u001b[1;32m    505\u001b[0m \u001b[0;34m\u001b[0m\u001b[0m\n\u001b[1;32m    506\u001b[0m     \u001b[0mstart_time\u001b[0m \u001b[0;34m=\u001b[0m \u001b[0mtime\u001b[0m\u001b[0;34m.\u001b[0m\u001b[0mtime\u001b[0m\u001b[0;34m(\u001b[0m\u001b[0;34m)\u001b[0m\u001b[0;34m\u001b[0m\u001b[0;34m\u001b[0m\u001b[0m\n",
            "\u001b[0;32m/usr/local/lib/python3.7/dist-packages/sklearn/pipeline.py\u001b[0m in \u001b[0;36mset_params\u001b[0;34m(self, **kwargs)\u001b[0m\n\u001b[1;32m    161\u001b[0m         \u001b[0mself\u001b[0m\u001b[0;34m\u001b[0m\u001b[0;34m\u001b[0m\u001b[0m\n\u001b[1;32m    162\u001b[0m         \"\"\"\n\u001b[0;32m--> 163\u001b[0;31m         \u001b[0mself\u001b[0m\u001b[0;34m.\u001b[0m\u001b[0m_set_params\u001b[0m\u001b[0;34m(\u001b[0m\u001b[0;34m'steps'\u001b[0m\u001b[0;34m,\u001b[0m \u001b[0;34m**\u001b[0m\u001b[0mkwargs\u001b[0m\u001b[0;34m)\u001b[0m\u001b[0;34m\u001b[0m\u001b[0;34m\u001b[0m\u001b[0m\n\u001b[0m\u001b[1;32m    164\u001b[0m         \u001b[0;32mreturn\u001b[0m \u001b[0mself\u001b[0m\u001b[0;34m\u001b[0m\u001b[0;34m\u001b[0m\u001b[0m\n\u001b[1;32m    165\u001b[0m \u001b[0;34m\u001b[0m\u001b[0m\n",
            "\u001b[0;32m/usr/local/lib/python3.7/dist-packages/sklearn/utils/metaestimators.py\u001b[0m in \u001b[0;36m_set_params\u001b[0;34m(self, attr, **params)\u001b[0m\n\u001b[1;32m     48\u001b[0m                 \u001b[0mself\u001b[0m\u001b[0;34m.\u001b[0m\u001b[0m_replace_estimator\u001b[0m\u001b[0;34m(\u001b[0m\u001b[0mattr\u001b[0m\u001b[0;34m,\u001b[0m \u001b[0mname\u001b[0m\u001b[0;34m,\u001b[0m \u001b[0mparams\u001b[0m\u001b[0;34m.\u001b[0m\u001b[0mpop\u001b[0m\u001b[0;34m(\u001b[0m\u001b[0mname\u001b[0m\u001b[0;34m)\u001b[0m\u001b[0;34m)\u001b[0m\u001b[0;34m\u001b[0m\u001b[0;34m\u001b[0m\u001b[0m\n\u001b[1;32m     49\u001b[0m         \u001b[0;31m# 3. Step parameters and other initialisation arguments\u001b[0m\u001b[0;34m\u001b[0m\u001b[0;34m\u001b[0m\u001b[0;34m\u001b[0m\u001b[0m\n\u001b[0;32m---> 50\u001b[0;31m         \u001b[0msuper\u001b[0m\u001b[0;34m(\u001b[0m\u001b[0;34m)\u001b[0m\u001b[0;34m.\u001b[0m\u001b[0mset_params\u001b[0m\u001b[0;34m(\u001b[0m\u001b[0;34m**\u001b[0m\u001b[0mparams\u001b[0m\u001b[0;34m)\u001b[0m\u001b[0;34m\u001b[0m\u001b[0;34m\u001b[0m\u001b[0m\n\u001b[0m\u001b[1;32m     51\u001b[0m         \u001b[0;32mreturn\u001b[0m \u001b[0mself\u001b[0m\u001b[0;34m\u001b[0m\u001b[0;34m\u001b[0m\u001b[0m\n\u001b[1;32m     52\u001b[0m \u001b[0;34m\u001b[0m\u001b[0m\n",
            "\u001b[0;32m/usr/local/lib/python3.7/dist-packages/sklearn/base.py\u001b[0m in \u001b[0;36mset_params\u001b[0;34m(self, **params)\u001b[0m\n\u001b[1;32m    234\u001b[0m                                  \u001b[0;34m'Check the list of available parameters '\u001b[0m\u001b[0;34m\u001b[0m\u001b[0;34m\u001b[0m\u001b[0m\n\u001b[1;32m    235\u001b[0m                                  \u001b[0;34m'with `estimator.get_params().keys()`.'\u001b[0m \u001b[0;34m%\u001b[0m\u001b[0;34m\u001b[0m\u001b[0;34m\u001b[0m\u001b[0m\n\u001b[0;32m--> 236\u001b[0;31m                                  (key, self))\n\u001b[0m\u001b[1;32m    237\u001b[0m \u001b[0;34m\u001b[0m\u001b[0m\n\u001b[1;32m    238\u001b[0m             \u001b[0;32mif\u001b[0m \u001b[0mdelim\u001b[0m\u001b[0;34m:\u001b[0m\u001b[0;34m\u001b[0m\u001b[0;34m\u001b[0m\u001b[0m\n",
            "\u001b[0;31mValueError\u001b[0m: Invalid parameter vectorizer for estimator Pipeline(memory=None,\n         steps=[('text_pre_processing', TextPreProc(use_mention=False))],\n         verbose=False). Check the list of available parameters with `estimator.get_params().keys()`."
          ]
        }
      ]
    },
    {
      "cell_type": "code",
      "metadata": {
        "id": "HVeYoG9uX4xw"
      },
      "source": [],
      "execution_count": null,
      "outputs": []
    }
  ]
}